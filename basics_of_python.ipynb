{
 "cells": [
  {
   "cell_type": "code",
   "execution_count": 1,
   "id": "346f7ab0-ed5a-400f-b3c2-a0f058c83ecf",
   "metadata": {},
   "outputs": [
    {
     "name": "stdout",
     "output_type": "stream",
     "text": [
      "hello world\n"
     ]
    }
   ],
   "source": [
    "print(\"hello world\")"
   ]
  },
  {
   "cell_type": "code",
   "execution_count": 8,
   "id": "4e861df8-1cb1-49a9-8066-b9da98b8b5ef",
   "metadata": {},
   "outputs": [],
   "source": [
    "a = 3 "
   ]
  },
  {
   "cell_type": "code",
   "execution_count": 9,
   "id": "4322c939-a709-4164-9058-c6eb5298fa73",
   "metadata": {},
   "outputs": [
    {
     "data": {
      "text/plain": [
       "int"
      ]
     },
     "execution_count": 9,
     "metadata": {},
     "output_type": "execute_result"
    }
   ],
   "source": [
    "type(a)"
   ]
  },
  {
   "cell_type": "code",
   "execution_count": 10,
   "id": "1550a4f3-5714-4ca6-b131-24113b63968a",
   "metadata": {},
   "outputs": [
    {
     "data": {
      "text/plain": [
       "3"
      ]
     },
     "execution_count": 10,
     "metadata": {},
     "output_type": "execute_result"
    }
   ],
   "source": [
    "a"
   ]
  },
  {
   "cell_type": "code",
   "execution_count": 11,
   "id": "5f542d81-6e14-4982-bf39-84cf9c04b07d",
   "metadata": {},
   "outputs": [],
   "source": [
    "c = 0.3\n"
   ]
  },
  {
   "cell_type": "code",
   "execution_count": 12,
   "id": "3c57ae2b-59ec-49d1-b03c-158e73893e29",
   "metadata": {},
   "outputs": [
    {
     "data": {
      "text/plain": [
       "float"
      ]
     },
     "execution_count": 12,
     "metadata": {},
     "output_type": "execute_result"
    }
   ],
   "source": [
    "type(c)"
   ]
  },
  {
   "cell_type": "code",
   "execution_count": 13,
   "id": "5a16b22a-c84a-44be-bac6-da246a5808d7",
   "metadata": {},
   "outputs": [
    {
     "ename": "SyntaxError",
     "evalue": "invalid syntax (2977295911.py, line 1)",
     "output_type": "error",
     "traceback": [
      "\u001b[0;36m  Cell \u001b[0;32mIn[13], line 1\u001b[0;36m\u001b[0m\n\u001b[0;31m    d =\u001b[0m\n\u001b[0m        ^\u001b[0m\n\u001b[0;31mSyntaxError\u001b[0m\u001b[0;31m:\u001b[0m invalid syntax\n"
     ]
    }
   ],
   "source": [
    "d = "
   ]
  },
  {
   "cell_type": "code",
   "execution_count": 14,
   "id": "d4d9ad0c-b4f0-405f-958a-d36fe62b14d6",
   "metadata": {},
   "outputs": [],
   "source": [
    "d = \"string\"\n"
   ]
  },
  {
   "cell_type": "code",
   "execution_count": 15,
   "id": "d9c814ff-bc54-443b-9bd4-bf0472601fb0",
   "metadata": {},
   "outputs": [
    {
     "data": {
      "text/plain": [
       "'string'"
      ]
     },
     "execution_count": 15,
     "metadata": {},
     "output_type": "execute_result"
    }
   ],
   "source": [
    "d\n"
   ]
  },
  {
   "cell_type": "code",
   "execution_count": 16,
   "id": "e5f46da9-11af-4162-8275-b413ede58d68",
   "metadata": {},
   "outputs": [
    {
     "data": {
      "text/plain": [
       "bool"
      ]
     },
     "execution_count": 16,
     "metadata": {},
     "output_type": "execute_result"
    }
   ],
   "source": [
    "a = True\n",
    "type(a)\n"
   ]
  },
  {
   "cell_type": "code",
   "execution_count": 17,
   "id": "7cefd62f-7a5b-402d-ab63-c3eda5a5e19b",
   "metadata": {},
   "outputs": [
    {
     "data": {
      "text/plain": [
       "int"
      ]
     },
     "execution_count": 17,
     "metadata": {},
     "output_type": "execute_result"
    }
   ],
   "source": [
    "false = 0\n",
    "type(false)\n"
   ]
  },
  {
   "cell_type": "code",
   "execution_count": 18,
   "id": "e8d46668-99f4-4e6d-8b3c-8792281f9d38",
   "metadata": {},
   "outputs": [
    {
     "data": {
      "text/plain": [
       "1"
      ]
     },
     "execution_count": 18,
     "metadata": {},
     "output_type": "execute_result"
    }
   ],
   "source": [
    "True - False\n"
   ]
  },
  {
   "cell_type": "code",
   "execution_count": 19,
   "id": "50ebd296-c6f4-4dce-b53a-7a3961afaab2",
   "metadata": {},
   "outputs": [
    {
     "data": {
      "text/plain": [
       "0"
      ]
     },
     "execution_count": 19,
     "metadata": {},
     "output_type": "execute_result"
    }
   ],
   "source": [
    "True*False\n"
   ]
  },
  {
   "cell_type": "code",
   "execution_count": 20,
   "id": "86cf8d9a-88b3-4e59-8d22-bc88b38440f1",
   "metadata": {},
   "outputs": [
    {
     "data": {
      "text/plain": [
       "0.0"
      ]
     },
     "execution_count": 20,
     "metadata": {},
     "output_type": "execute_result"
    }
   ],
   "source": [
    "False/True"
   ]
  },
  {
   "cell_type": "code",
   "execution_count": 21,
   "id": "c667bb2c-76d1-45af-a778-daf2f1cc0ffe",
   "metadata": {},
   "outputs": [
    {
     "ename": "ZeroDivisionError",
     "evalue": "division by zero",
     "output_type": "error",
     "traceback": [
      "\u001b[0;31m---------------------------------------------------------------------------\u001b[0m",
      "\u001b[0;31mZeroDivisionError\u001b[0m                         Traceback (most recent call last)",
      "Cell \u001b[0;32mIn[21], line 1\u001b[0m\n\u001b[0;32m----> 1\u001b[0m \u001b[38;5;28;43;01mTrue\u001b[39;49;00m\u001b[38;5;241;43m/\u001b[39;49m\u001b[38;5;28;43;01mFalse\u001b[39;49;00m\n",
      "\u001b[0;31mZeroDivisionError\u001b[0m: division by zero"
     ]
    }
   ],
   "source": [
    "True/False"
   ]
  },
  {
   "cell_type": "code",
   "execution_count": 22,
   "id": "7724125d-8377-461d-8024-a6af5a813ded",
   "metadata": {},
   "outputs": [
    {
     "data": {
      "text/plain": [
       "complex"
      ]
     },
     "execution_count": 22,
     "metadata": {},
     "output_type": "execute_result"
    }
   ],
   "source": [
    "c = 5+6j\n",
    "type(c)"
   ]
  },
  {
   "cell_type": "code",
   "execution_count": 23,
   "id": "eddb46c4-6c72-45eb-b318-cfe1499dd955",
   "metadata": {},
   "outputs": [
    {
     "data": {
      "text/plain": [
       "5.0"
      ]
     },
     "execution_count": 23,
     "metadata": {},
     "output_type": "execute_result"
    }
   ],
   "source": [
    "c.real\n"
   ]
  },
  {
   "cell_type": "code",
   "execution_count": 24,
   "id": "3a58f90d-a734-4a92-bcae-f08afe781d22",
   "metadata": {},
   "outputs": [
    {
     "ename": "AttributeError",
     "evalue": "'complex' object has no attribute 'img'",
     "output_type": "error",
     "traceback": [
      "\u001b[0;31m---------------------------------------------------------------------------\u001b[0m",
      "\u001b[0;31mAttributeError\u001b[0m                            Traceback (most recent call last)",
      "Cell \u001b[0;32mIn[24], line 1\u001b[0m\n\u001b[0;32m----> 1\u001b[0m \u001b[43mc\u001b[49m\u001b[38;5;241;43m.\u001b[39;49m\u001b[43mimg\u001b[49m\n",
      "\u001b[0;31mAttributeError\u001b[0m: 'complex' object has no attribute 'img'"
     ]
    }
   ],
   "source": [
    "c.img"
   ]
  },
  {
   "cell_type": "code",
   "execution_count": 25,
   "id": "21e0f1d8-2906-48aa-ab8d-5232e6f6b572",
   "metadata": {},
   "outputs": [
    {
     "data": {
      "text/plain": [
       "6.0"
      ]
     },
     "execution_count": 25,
     "metadata": {},
     "output_type": "execute_result"
    }
   ],
   "source": [
    "c.imag"
   ]
  },
  {
   "cell_type": "code",
   "execution_count": null,
   "id": "7557ae68-bdc5-4bef-ac2a-ec48495b2a12",
   "metadata": {},
   "outputs": [],
   "source": [
    "#rules of defining a variable"
   ]
  },
  {
   "cell_type": "code",
   "execution_count": null,
   "id": "8bb6b7e2-bee8-4208-a9ca-74372582c2b7",
   "metadata": {},
   "outputs": [],
   "source": [
    "#variable should only start with a letter or underscore"
   ]
  },
  {
   "cell_type": "code",
   "execution_count": 26,
   "id": "7ba75789-f1ac-4b6f-9336-83a7efdfb786",
   "metadata": {},
   "outputs": [
    {
     "ename": "SyntaxError",
     "evalue": "cannot assign to literal here. Maybe you meant '==' instead of '='? (1685550149.py, line 2)",
     "output_type": "error",
     "traceback": [
      "\u001b[0;36m  Cell \u001b[0;32mIn[26], line 2\u001b[0;36m\u001b[0m\n\u001b[0;31m    5 = a\u001b[0m\n\u001b[0m    ^\u001b[0m\n\u001b[0;31mSyntaxError\u001b[0m\u001b[0;31m:\u001b[0m cannot assign to literal here. Maybe you meant '==' instead of '='?\n"
     ]
    }
   ],
   "source": [
    "# How not to define a variable (give error)\n",
    "5 = a"
   ]
  },
  {
   "cell_type": "code",
   "execution_count": 28,
   "id": "11784944-053a-4361-83e9-1e7fd9ee9ce7",
   "metadata": {},
   "outputs": [
    {
     "ename": "SyntaxError",
     "evalue": "unterminated string literal (detected at line 4) (3687756697.py, line 4)",
     "output_type": "error",
     "traceback": [
      "\u001b[0;36m  Cell \u001b[0;32mIn[28], line 4\u001b[0;36m\u001b[0m\n\u001b[0;31m    data-analytics = \"pwskills'\u001b[0m\n\u001b[0m                     ^\u001b[0m\n\u001b[0;31mSyntaxError\u001b[0m\u001b[0;31m:\u001b[0m unterminated string literal (detected at line 4)\n"
     ]
    }
   ],
   "source": [
    "# No special cases\n",
    "@abc = \"string\"\n",
    "a-bc = \"string\"\n",
    "data-analytics = \"pwskills'\n",
    "_1 = \"string\""
   ]
  },
  {
   "cell_type": "code",
   "execution_count": 30,
   "id": "9df38d63-bb86-405b-8dfb-3e99b4c29875",
   "metadata": {},
   "outputs": [],
   "source": [
    "_1 = \"string\"\n"
   ]
  },
  {
   "cell_type": "code",
   "execution_count": 31,
   "id": "7dd681ac-3c02-4e51-acc8-c59ffb113c1c",
   "metadata": {},
   "outputs": [
    {
     "data": {
      "text/plain": [
       "'string'"
      ]
     },
     "execution_count": 31,
     "metadata": {},
     "output_type": "execute_result"
    }
   ],
   "source": [
    "_1"
   ]
  },
  {
   "cell_type": "code",
   "execution_count": 32,
   "id": "ebf783b5-a064-41ee-9745-34b7030b9467",
   "metadata": {},
   "outputs": [],
   "source": [
    "name = \"pwskills\"\n"
   ]
  },
  {
   "cell_type": "code",
   "execution_count": null,
   "id": "1e9f31e2-6cb8-457f-8545-80f63f0eb9d4",
   "metadata": {},
   "outputs": [],
   "source": [
    "name"
   ]
  },
  {
   "cell_type": "code",
   "execution_count": 33,
   "id": "e34f237c-8208-4d13-9c05-d9d2dcee64fd",
   "metadata": {},
   "outputs": [],
   "source": [
    "salary = 20000\n"
   ]
  },
  {
   "cell_type": "code",
   "execution_count": 34,
   "id": "35651e81-1a66-4044-8313-0510bd11d60d",
   "metadata": {},
   "outputs": [
    {
     "data": {
      "text/plain": [
       "20000"
      ]
     },
     "execution_count": 34,
     "metadata": {},
     "output_type": "execute_result"
    }
   ],
   "source": [
    "salary\n"
   ]
  },
  {
   "cell_type": "code",
   "execution_count": 35,
   "id": "c84fe365-b73d-4aaf-a325-c8a30eb6b18f",
   "metadata": {},
   "outputs": [],
   "source": [
    "# Note: variable should always start with a letter or underscore\n"
   ]
  },
  {
   "cell_type": "code",
   "execution_count": null,
   "id": "e12b4104-36f0-4f2a-b7ee-3e4357441abf",
   "metadata": {},
   "outputs": [],
   "source": [
    "# a = 0\n",
    "# a = 8\n",
    "# Ctrl + / for commenting everything in a go"
   ]
  },
  {
   "cell_type": "code",
   "execution_count": 36,
   "id": "1006394e-a143-4c4d-9fc3-babb560035a2",
   "metadata": {},
   "outputs": [
    {
     "data": {
      "text/plain": [
       "7"
      ]
     },
     "execution_count": 36,
     "metadata": {},
     "output_type": "execute_result"
    }
   ],
   "source": [
    "#docstring\n",
    "\"\"\"\n",
    "i am pranay\n",
    "\"\"\"\n",
    "4+3"
   ]
  },
  {
   "cell_type": "code",
   "execution_count": null,
   "id": "6521db15-7b39-4923-b1b3-559c4ead5aa8",
   "metadata": {},
   "outputs": [],
   "source": [
    "print(\"hello world\")\n",
    "#keywords in python are predefined words eg. print is a keyword\n",
    "      # around 35 keywords\n",
    "      "
   ]
  },
  {
   "cell_type": "code",
   "execution_count": 37,
   "id": "4317e4eb-0ffa-40dd-974d-3cf672eb5803",
   "metadata": {},
   "outputs": [
    {
     "name": "stdout",
     "output_type": "stream",
     "text": [
      "\n",
      "Here is a list of the Python keywords.  Enter any keyword to get more help.\n",
      "\n",
      "False               class               from                or\n",
      "None                continue            global              pass\n",
      "True                def                 if                  raise\n",
      "and                 del                 import              return\n",
      "as                  elif                in                  try\n",
      "assert              else                is                  while\n",
      "async               except              lambda              with\n",
      "await               finally             nonlocal            yield\n",
      "break               for                 not                 \n",
      "\n"
     ]
    }
   ],
   "source": [
    "help(\"keywords\")\n"
   ]
  },
  {
   "cell_type": "code",
   "execution_count": 39,
   "id": "d827556f-90ba-465f-8ccb-437297b94815",
   "metadata": {},
   "outputs": [],
   "source": [
    "print = \"Ram\"\n"
   ]
  },
  {
   "cell_type": "code",
   "execution_count": 40,
   "id": "5b67cb77-9102-4f1d-9699-0f87b35a221f",
   "metadata": {},
   "outputs": [
    {
     "ename": "TypeError",
     "evalue": "'str' object is not callable",
     "output_type": "error",
     "traceback": [
      "\u001b[0;31m---------------------------------------------------------------------------\u001b[0m",
      "\u001b[0;31mTypeError\u001b[0m                                 Traceback (most recent call last)",
      "Cell \u001b[0;32mIn[40], line 1\u001b[0m\n\u001b[0;32m----> 1\u001b[0m \u001b[38;5;28;43mprint\u001b[39;49m\u001b[43m(\u001b[49m\u001b[38;5;124;43m\"\u001b[39;49m\u001b[38;5;124;43mhello world\u001b[39;49m\u001b[38;5;124;43m\"\u001b[39;49m\u001b[43m)\u001b[49m\n",
      "\u001b[0;31mTypeError\u001b[0m: 'str' object is not callable"
     ]
    }
   ],
   "source": [
    "print(\"hello world\")"
   ]
  },
  {
   "cell_type": "code",
   "execution_count": 43,
   "id": "c3de3d84-971e-4ef3-8082-bfd222578805",
   "metadata": {},
   "outputs": [],
   "source": [
    "a = \"3.5\" # double quote or single quote makes it a string rather than float\n"
   ]
  },
  {
   "cell_type": "code",
   "execution_count": 42,
   "id": "b7883e51-3721-4677-b409-4fd9b779cd8d",
   "metadata": {},
   "outputs": [
    {
     "data": {
      "text/plain": [
       "str"
      ]
     },
     "execution_count": 42,
     "metadata": {},
     "output_type": "execute_result"
    }
   ],
   "source": [
    "type(a)"
   ]
  },
  {
   "cell_type": "code",
   "execution_count": null,
   "id": "0dde5103-c2e0-49bf-885f-d81368fd3c7a",
   "metadata": {},
   "outputs": [],
   "source": [
    "#python is a case sensitive language"
   ]
  },
  {
   "cell_type": "code",
   "execution_count": 45,
   "id": "61409b9e-f9b0-47b7-9fa2-e927896a702f",
   "metadata": {},
   "outputs": [],
   "source": [
    "a = \"string\"\n",
    "b = 5\n",
    "#data container are a and b over here\n",
    "#How to access the a particular alphabets of string well each alphabet\n",
    "#is stored index as 012345 but from the left to right and for right to \n",
    "#left is is accessed as -1-2-3-4-5\n"
   ]
  },
  {
   "cell_type": "code",
   "execution_count": 46,
   "id": "cfeeba75-99f3-467b-b7da-ba457b669680",
   "metadata": {},
   "outputs": [
    {
     "data": {
      "text/plain": [
       "'r'"
      ]
     },
     "execution_count": 46,
     "metadata": {},
     "output_type": "execute_result"
    }
   ],
   "source": [
    "a[2]"
   ]
  },
  {
   "cell_type": "code",
   "execution_count": 47,
   "id": "e31f5ab2-7ed5-4454-8863-45b08a46d4a9",
   "metadata": {},
   "outputs": [],
   "source": [
    "l = [1,2,3] # l is a list and also a data container and also any datatype\n",
    "# can to contained in the list and the concept of the indexing is the same\n",
    "# even for the list and list is mutable.\n"
   ]
  },
  {
   "cell_type": "code",
   "execution_count": 48,
   "id": "6c6b7387-ba6c-434f-bc33-f3d1a013c9fb",
   "metadata": {},
   "outputs": [
    {
     "data": {
      "text/plain": [
       "[1, 2, 3]"
      ]
     },
     "execution_count": 48,
     "metadata": {},
     "output_type": "execute_result"
    }
   ],
   "source": [
    "l"
   ]
  },
  {
   "cell_type": "code",
   "execution_count": 49,
   "id": "8b3e57e7-14b3-48e6-a598-358c57085bfc",
   "metadata": {},
   "outputs": [],
   "source": [
    "l[1] = \"pranay\""
   ]
  },
  {
   "cell_type": "code",
   "execution_count": 50,
   "id": "b980c8ad-7061-4168-b3ba-3a95ee181c78",
   "metadata": {},
   "outputs": [
    {
     "data": {
      "text/plain": [
       "[1, 'pranay', 3]"
      ]
     },
     "execution_count": 50,
     "metadata": {},
     "output_type": "execute_result"
    }
   ],
   "source": [
    "l"
   ]
  },
  {
   "cell_type": "code",
   "execution_count": 51,
   "id": "06196ee0-5a77-4833-8687-097f36609759",
   "metadata": {},
   "outputs": [],
   "source": [
    "# the above is the example of mutablity of list and is a mutable concept\n",
    "# and string are immutable."
   ]
  },
  {
   "cell_type": "code",
   "execution_count": 52,
   "id": "ad6cecb0-8d64-4c1f-99e0-2cb3fd20160c",
   "metadata": {},
   "outputs": [
    {
     "data": {
      "text/plain": [
       "5"
      ]
     },
     "execution_count": 52,
     "metadata": {},
     "output_type": "execute_result"
    }
   ],
   "source": [
    "# operators are something that perform operations to manipulate the\n",
    "#data\n",
    "2+3\n"
   ]
  },
  {
   "cell_type": "code",
   "execution_count": 53,
   "id": "1f16b224-00b3-4880-b2ee-fa83fb24efc8",
   "metadata": {},
   "outputs": [],
   "source": [
    "a = 3 \n",
    "b = 5"
   ]
  },
  {
   "cell_type": "code",
   "execution_count": 54,
   "id": "faabae45-150c-4342-a213-b9da5d6b7e80",
   "metadata": {},
   "outputs": [
    {
     "data": {
      "text/plain": [
       "8"
      ]
     },
     "execution_count": 54,
     "metadata": {},
     "output_type": "execute_result"
    }
   ],
   "source": [
    "a + b"
   ]
  },
  {
   "cell_type": "code",
   "execution_count": 55,
   "id": "630581eb-93ab-4144-bce0-456d7943d0de",
   "metadata": {},
   "outputs": [
    {
     "name": "stdout",
     "output_type": "stream",
     "text": [
      "No Python documentation found for 'operators'.\n",
      "Use help() to get the interactive help utility.\n",
      "Use help(str) for help on the str class.\n",
      "\n"
     ]
    }
   ],
   "source": [
    "help(\"operators\")"
   ]
  },
  {
   "cell_type": "code",
   "execution_count": 57,
   "id": "5c9ac99a-794e-4dbc-ba80-b8e51462842f",
   "metadata": {},
   "outputs": [],
   "source": [
    "add = a/b"
   ]
  },
  {
   "cell_type": "code",
   "execution_count": 58,
   "id": "eb08fdf2-a2c0-41d5-9d4a-85af0356e2fe",
   "metadata": {},
   "outputs": [
    {
     "data": {
      "text/plain": [
       "0.6"
      ]
     },
     "execution_count": 58,
     "metadata": {},
     "output_type": "execute_result"
    }
   ],
   "source": [
    "add"
   ]
  },
  {
   "cell_type": "code",
   "execution_count": 59,
   "id": "cb844d85-790e-45a3-a694-6d6ff2d7b80b",
   "metadata": {},
   "outputs": [],
   "source": [
    "power = 3^6"
   ]
  },
  {
   "cell_type": "code",
   "execution_count": 60,
   "id": "1c68c307-3abc-4400-894c-7d332292c4a0",
   "metadata": {},
   "outputs": [
    {
     "data": {
      "text/plain": [
       "5"
      ]
     },
     "execution_count": 60,
     "metadata": {},
     "output_type": "execute_result"
    }
   ],
   "source": [
    "power"
   ]
  },
  {
   "cell_type": "code",
   "execution_count": 63,
   "id": "c789a3ba-479d-492f-b273-93572a535950",
   "metadata": {},
   "outputs": [],
   "source": [
    "power = 3 ** 756"
   ]
  },
  {
   "cell_type": "code",
   "execution_count": 64,
   "id": "40b86059-3acf-4270-accf-6d3f48bc6303",
   "metadata": {},
   "outputs": [
    {
     "data": {
      "text/plain": [
       "5054387890525272446406343855554816024188820842273292736143747467663385418676183423558311575424232463638959609894979917513677060343335515273794662255766812732861601223348419887903441158192471580920222508390031555960495791823166663171546107196874771814859010557687301893891916530425828390274940778339748262959750143043015580303368567287618864725714114590984245521"
      ]
     },
     "execution_count": 64,
     "metadata": {},
     "output_type": "execute_result"
    }
   ],
   "source": [
    "power"
   ]
  },
  {
   "cell_type": "code",
   "execution_count": 66,
   "id": "abdb0d85-f7ad-449b-8b0c-840516334cb9",
   "metadata": {},
   "outputs": [
    {
     "data": {
      "text/plain": [
       "0"
      ]
     },
     "execution_count": 66,
     "metadata": {},
     "output_type": "execute_result"
    }
   ],
   "source": [
    "4/5 # gives an output of 0.8\n",
    "#how to do the floor division\n",
    "#but after doing floor division by // is will give the nearest rounded \n",
    "#lowest values\n",
    "\n",
    "4//5"
   ]
  },
  {
   "cell_type": "code",
   "execution_count": 67,
   "id": "479fc8dc-8c95-455f-9416-42809e4feb78",
   "metadata": {},
   "outputs": [
    {
     "data": {
      "text/plain": [
       "True"
      ]
     },
     "execution_count": 67,
     "metadata": {},
     "output_type": "execute_result"
    }
   ],
   "source": [
    "#comparison operator compares between two objects or values\n",
    "# this operator returns boolean value\n",
    "\n",
    "2 == 2\n"
   ]
  },
  {
   "cell_type": "code",
   "execution_count": 71,
   "id": "4aceab5f-a933-43d4-a6b7-8bda76f73856",
   "metadata": {},
   "outputs": [
    {
     "data": {
      "text/plain": [
       "True"
      ]
     },
     "execution_count": 71,
     "metadata": {},
     "output_type": "execute_result"
    }
   ],
   "source": [
    "3 != 5"
   ]
  },
  {
   "cell_type": "code",
   "execution_count": 69,
   "id": "2f8ce0d0-4b00-45ec-9bbe-9544e379ae10",
   "metadata": {},
   "outputs": [
    {
     "data": {
      "text/plain": [
       "False"
      ]
     },
     "execution_count": 69,
     "metadata": {},
     "output_type": "execute_result"
    }
   ],
   "source": [
    "a == b"
   ]
  },
  {
   "cell_type": "code",
   "execution_count": 70,
   "id": "45cc305c-4032-43b0-8edf-aaab51bd958c",
   "metadata": {},
   "outputs": [
    {
     "data": {
      "text/plain": [
       "True"
      ]
     },
     "execution_count": 70,
     "metadata": {},
     "output_type": "execute_result"
    }
   ],
   "source": [
    "a != b"
   ]
  },
  {
   "cell_type": "code",
   "execution_count": 72,
   "id": "f8eaebca-5cb0-4ef2-9910-f5224863d6af",
   "metadata": {},
   "outputs": [
    {
     "data": {
      "text/plain": [
       "True"
      ]
     },
     "execution_count": 72,
     "metadata": {},
     "output_type": "execute_result"
    }
   ],
   "source": [
    "3 > 1"
   ]
  },
  {
   "cell_type": "code",
   "execution_count": 74,
   "id": "49355831-032c-48c0-a6f6-9cd85638481c",
   "metadata": {},
   "outputs": [
    {
     "data": {
      "text/plain": [
       "True"
      ]
     },
     "execution_count": 74,
     "metadata": {},
     "output_type": "execute_result"
    }
   ],
   "source": [
    "3 >= 1"
   ]
  },
  {
   "cell_type": "code",
   "execution_count": 78,
   "id": "50da0a76-cfce-4895-b795-b2aa219d9bd2",
   "metadata": {},
   "outputs": [
    {
     "data": {
      "text/plain": [
       "False"
      ]
     },
     "execution_count": 78,
     "metadata": {},
     "output_type": "execute_result"
    }
   ],
   "source": [
    "# logical operator includes and or OR.\n",
    "\n",
    "\"\"\" True and True | True\n",
    "    True and False | False\n",
    "    False and True | False\n",
    "    False and False| False \n",
    "    \n",
    "    AND operator needs to have both condition being satisfied\n",
    "    and in OR operator only one condition beings satisfied\"\"\"\n",
    "\n",
    "True and False\n",
    "    \n",
    "\n"
   ]
  },
  {
   "cell_type": "code",
   "execution_count": 1,
   "id": "e3448e41-239a-44fa-9796-13073b29d43f",
   "metadata": {},
   "outputs": [
    {
     "data": {
      "text/plain": [
       "True"
      ]
     },
     "execution_count": 1,
     "metadata": {},
     "output_type": "execute_result"
    }
   ],
   "source": [
    "#membership operator\n",
    "\n",
    "a = \"Pwskills\"\n",
    "\"P\" in a "
   ]
  },
  {
   "cell_type": "code",
   "execution_count": 2,
   "id": "c89505cd-fb42-404b-9751-54c09da0a221",
   "metadata": {},
   "outputs": [
    {
     "data": {
      "text/plain": [
       "True"
      ]
     },
     "execution_count": 2,
     "metadata": {},
     "output_type": "execute_result"
    }
   ],
   "source": [
    "\"Pw\" in a "
   ]
  },
  {
   "cell_type": "code",
   "execution_count": 3,
   "id": "0585dd26-4864-4224-9d7e-8b18e5f98093",
   "metadata": {},
   "outputs": [
    {
     "data": {
      "text/plain": [
       "False"
      ]
     },
     "execution_count": 3,
     "metadata": {},
     "output_type": "execute_result"
    }
   ],
   "source": [
    "\"pr\" in a"
   ]
  },
  {
   "cell_type": "code",
   "execution_count": 5,
   "id": "d5a9671e-606a-4302-9b31-20f77ba5259f",
   "metadata": {},
   "outputs": [
    {
     "data": {
      "text/plain": [
       "False"
      ]
     },
     "execution_count": 5,
     "metadata": {},
     "output_type": "execute_result"
    }
   ],
   "source": [
    "\"vaibhav\" in [\"harshit\", \"pranay\"]"
   ]
  },
  {
   "cell_type": "markdown",
   "id": "9c4f150a-3d23-4760-90e3-876678d1cbba",
   "metadata": {},
   "source": []
  },
  {
   "cell_type": "code",
   "execution_count": 6,
   "id": "1354f8b8-2d41-4f0b-8a73-41fa998fee48",
   "metadata": {},
   "outputs": [
    {
     "data": {
      "text/plain": [
       "True"
      ]
     },
     "execution_count": 6,
     "metadata": {},
     "output_type": "execute_result"
    }
   ],
   "source": [
    "\"am\" in \"I am ajay\""
   ]
  },
  {
   "cell_type": "code",
   "execution_count": 7,
   "id": "65263df1-0878-4d5f-adcc-7ea6b4ce738e",
   "metadata": {},
   "outputs": [
    {
     "data": {
      "text/plain": [
       "False"
      ]
     },
     "execution_count": 7,
     "metadata": {},
     "output_type": "execute_result"
    }
   ],
   "source": [
    "\"am\" not in \" i am ajay\""
   ]
  },
  {
   "cell_type": "code",
   "execution_count": 12,
   "id": "c0876fd9-7799-4ab3-8314-9ae8f0ec01cf",
   "metadata": {},
   "outputs": [
    {
     "data": {
      "text/plain": [
       "True"
      ]
     },
     "execution_count": 12,
     "metadata": {},
     "output_type": "execute_result"
    }
   ],
   "source": [
    "#identity operator compare the memory location of two location\n",
    "# eg. a is b\n",
    "a = 5\n",
    "b = 5\n",
    "\n",
    "a is b "
   ]
  },
  {
   "cell_type": "code",
   "execution_count": 17,
   "id": "77ce1763-b207-45a1-9d09-0c238c8a63c0",
   "metadata": {},
   "outputs": [
    {
     "data": {
      "text/plain": [
       "True"
      ]
     },
     "execution_count": 17,
     "metadata": {},
     "output_type": "execute_result"
    }
   ],
   "source": [
    "a = 3 \n",
    "b = 5\n",
    "a = b # assigns the value of b to a \n",
    "a is b"
   ]
  },
  {
   "cell_type": "code",
   "execution_count": 15,
   "id": "a73ac6ff-87fe-40ba-8d1f-94a68f214cc2",
   "metadata": {},
   "outputs": [
    {
     "data": {
      "text/plain": [
       "5"
      ]
     },
     "execution_count": 15,
     "metadata": {},
     "output_type": "execute_result"
    }
   ],
   "source": [
    "a "
   ]
  },
  {
   "cell_type": "code",
   "execution_count": 16,
   "id": "fd3c1d71-c9de-444d-8df1-e0ada96cf144",
   "metadata": {},
   "outputs": [
    {
     "data": {
      "text/plain": [
       "5"
      ]
     },
     "execution_count": 16,
     "metadata": {},
     "output_type": "execute_result"
    }
   ],
   "source": [
    "b"
   ]
  },
  {
   "cell_type": "code",
   "execution_count": 21,
   "id": "5df90a13-4e9d-4320-9447-86e38562d385",
   "metadata": {
    "collapsed": true,
    "jupyter": {
     "outputs_hidden": true,
     "source_hidden": true
    },
    "tags": []
   },
   "outputs": [
    {
     "data": {
      "text/plain": [
       "True"
      ]
     },
     "execution_count": 21,
     "metadata": {},
     "output_type": "execute_result"
    }
   ],
   "source": [
    "a = \"pwskills\"\n",
    "b = \"data\"\n",
    "a = b\n",
    "a is b #identity operator works for strings too.\n",
    "b is a\n"
   ]
  },
  {
   "cell_type": "code",
   "execution_count": 23,
   "id": "ca9e09f5-ac9a-4292-bf81-2d8e690b3c1e",
   "metadata": {
    "jupyter": {
     "source_hidden": true
    },
    "tags": []
   },
   "outputs": [
    {
     "data": {
      "text/plain": [
       "10"
      ]
     },
     "execution_count": 23,
     "metadata": {},
     "output_type": "execute_result"
    }
   ],
   "source": [
    "#bitwise operator >> operations done at bit levels\n",
    "#binaries 1 and 0, 1 being true and 0 being false\n",
    "#  0001 > 1\n",
    "#  0010 > 2\n",
    "#  logic works by the binary representation by the power of 2 \n",
    "# 2^3 2^2 2^1 2^0 works this exercise somehow\n",
    "\n",
    "  \n",
    "10 & 10"
   ]
  },
  {
   "cell_type": "code",
   "execution_count": 27,
   "id": "0a4d38e6-37ed-4baf-8c01-7e4ae887768c",
   "metadata": {},
   "outputs": [
    {
     "data": {
      "text/plain": [
       "'0b1010'"
      ]
     },
     "execution_count": 27,
     "metadata": {},
     "output_type": "execute_result"
    }
   ],
   "source": [
    "bin(10) #gives binary values"
   ]
  },
  {
   "cell_type": "code",
   "execution_count": 28,
   "id": "1304d81c-6d73-4e24-96b3-f1458bbf4a5c",
   "metadata": {},
   "outputs": [
    {
     "data": {
      "text/plain": [
       "2"
      ]
     },
     "execution_count": 28,
     "metadata": {},
     "output_type": "execute_result"
    }
   ],
   "source": [
    "1010 # is 2^3 and 2^1\n",
    "\n",
    "10 & 10 # gives 10 because 1010 and 1010 logical operator logic\n",
    "\n",
    "18 & 3 # same logic"
   ]
  },
  {
   "cell_type": "code",
   "execution_count": 29,
   "id": "56cb67df-8143-48a8-9f8a-90b4974a5f9c",
   "metadata": {},
   "outputs": [
    {
     "data": {
      "text/plain": [
       "'0b10'"
      ]
     },
     "execution_count": 29,
     "metadata": {},
     "output_type": "execute_result"
    }
   ],
   "source": [
    "bin (2)"
   ]
  },
  {
   "cell_type": "code",
   "execution_count": 30,
   "id": "664300f6-8b5e-490a-994a-4b9b63c3b3c1",
   "metadata": {},
   "outputs": [
    {
     "data": {
      "text/plain": [
       "7"
      ]
     },
     "execution_count": 30,
     "metadata": {},
     "output_type": "execute_result"
    }
   ],
   "source": [
    "3 | 5 # | is the or operator"
   ]
  },
  {
   "cell_type": "code",
   "execution_count": 31,
   "id": "a423dfeb-b7e7-4257-82ae-559fb38f15ab",
   "metadata": {},
   "outputs": [
    {
     "data": {
      "text/plain": [
       "'0b111'"
      ]
     },
     "execution_count": 31,
     "metadata": {},
     "output_type": "execute_result"
    }
   ],
   "source": [
    "bin(7)"
   ]
  },
  {
   "cell_type": "code",
   "execution_count": 33,
   "id": "12a8164a-39fc-4d65-a3f8-8bf5cc6c8b20",
   "metadata": {},
   "outputs": [
    {
     "data": {
      "text/plain": [
       "-4"
      ]
     },
     "execution_count": 33,
     "metadata": {},
     "output_type": "execute_result"
    }
   ],
   "source": [
    "#negation will give you one more value with negaitve sign\n",
    "~3 # is called as tilda but in python it is called as negation."
   ]
  },
  {
   "cell_type": "code",
   "execution_count": 34,
   "id": "f87de254-8730-48b4-bdad-816534ae8c75",
   "metadata": {},
   "outputs": [
    {
     "data": {
      "text/plain": [
       "-101"
      ]
     },
     "execution_count": 34,
     "metadata": {},
     "output_type": "execute_result"
    }
   ],
   "source": [
    "~100"
   ]
  },
  {
   "cell_type": "code",
   "execution_count": 39,
   "id": "b21b365f-ac29-42d3-af8a-d610e0844f44",
   "metadata": {},
   "outputs": [
    {
     "data": {
      "text/plain": [
       "6"
      ]
     },
     "execution_count": 39,
     "metadata": {},
     "output_type": "execute_result"
    }
   ],
   "source": [
    "#XOR operator returns 1 when exactly one operand is 1 doesn't also \n",
    "# gives 1 for 1 and 1\n",
    "\n",
    "5^3\n",
    "\n"
   ]
  },
  {
   "cell_type": "code",
   "execution_count": 38,
   "id": "97b3188e-5a3d-4cee-a003-386fc6009609",
   "metadata": {},
   "outputs": [
    {
     "data": {
      "text/plain": [
       "'0b101'"
      ]
     },
     "execution_count": 38,
     "metadata": {},
     "output_type": "execute_result"
    }
   ],
   "source": [
    "5^5\n",
    "bin(5)"
   ]
  },
  {
   "cell_type": "code",
   "execution_count": 40,
   "id": "0f1d0199-d8bb-458c-a8aa-88e1dea3bcc1",
   "metadata": {},
   "outputs": [
    {
     "data": {
      "text/plain": [
       "280"
      ]
     },
     "execution_count": 40,
     "metadata": {},
     "output_type": "execute_result"
    }
   ],
   "source": [
    "#shift operator >> left shift puts number of zeros in right side it shifts it to left\n",
    "#or right shift\n",
    "\n",
    "35 << 3 "
   ]
  },
  {
   "cell_type": "code",
   "execution_count": 41,
   "id": "a9776702-1a2b-4fde-a2bd-4d18994c7932",
   "metadata": {},
   "outputs": [
    {
     "data": {
      "text/plain": [
       "'0b100011000'"
      ]
     },
     "execution_count": 41,
     "metadata": {},
     "output_type": "execute_result"
    }
   ],
   "source": [
    "bin(280)"
   ]
  },
  {
   "cell_type": "code",
   "execution_count": 42,
   "id": "79bbccb5-ecb0-47b2-a5b7-eabff90d1c44",
   "metadata": {},
   "outputs": [
    {
     "data": {
      "text/plain": [
       "5"
      ]
     },
     "execution_count": 42,
     "metadata": {},
     "output_type": "execute_result"
    }
   ],
   "source": [
    "10 >> 1 #understand right shift again"
   ]
  },
  {
   "cell_type": "code",
   "execution_count": 43,
   "id": "6778fad7-ac23-4491-bb01-81bfb6d1a662",
   "metadata": {},
   "outputs": [
    {
     "data": {
      "text/plain": [
       "'0b101'"
      ]
     },
     "execution_count": 43,
     "metadata": {},
     "output_type": "execute_result"
    }
   ],
   "source": [
    "bin(5)"
   ]
  },
  {
   "cell_type": "code",
   "execution_count": 44,
   "id": "0f7c1f04-5c14-4123-a143-71a7a560dca6",
   "metadata": {},
   "outputs": [
    {
     "data": {
      "text/plain": [
       "'0b1'"
      ]
     },
     "execution_count": 44,
     "metadata": {},
     "output_type": "execute_result"
    }
   ],
   "source": [
    "bin(1)"
   ]
  },
  {
   "cell_type": "code",
   "execution_count": 45,
   "id": "7a4a10fd-c83c-4988-a6ce-76cc2f403712",
   "metadata": {},
   "outputs": [
    {
     "data": {
      "text/plain": [
       "'0b1010'"
      ]
     },
     "execution_count": 45,
     "metadata": {},
     "output_type": "execute_result"
    }
   ],
   "source": [
    "bin(10)"
   ]
  },
  {
   "cell_type": "code",
   "execution_count": 48,
   "id": "abd7c0c8-10c3-4064-bc22-67c394052e34",
   "metadata": {
    "tags": []
   },
   "outputs": [
    {
     "data": {
      "text/plain": [
       "8"
      ]
     },
     "execution_count": 48,
     "metadata": {},
     "output_type": "execute_result"
    }
   ],
   "source": [
    "#order of precedene code executes from left to right\n",
    "#left to right \n",
    "#exponentials executes right to left\n",
    "a = 3\n",
    "a += 5\n",
    "a"
   ]
  },
  {
   "cell_type": "code",
   "execution_count": 52,
   "id": "7201c11a-926b-4074-8a34-956cbba191d3",
   "metadata": {},
   "outputs": [
    {
     "data": {
      "text/plain": [
       "-3"
      ]
     },
     "execution_count": 52,
     "metadata": {},
     "output_type": "execute_result"
    }
   ],
   "source": [
    "2 - (6-1)"
   ]
  },
  {
   "cell_type": "code",
   "execution_count": 53,
   "id": "280b628a-ea0f-4ce9-81d4-1548c00e5e2e",
   "metadata": {},
   "outputs": [
    {
     "data": {
      "text/plain": [
       "str"
      ]
     },
     "execution_count": 53,
     "metadata": {},
     "output_type": "execute_result"
    }
   ],
   "source": [
    "a = \"5\"\n",
    "type(a)\n"
   ]
  },
  {
   "cell_type": "code",
   "execution_count": 56,
   "id": "c87d99dd-dc49-44cf-8e9b-6936d7d949cc",
   "metadata": {},
   "outputs": [
    {
     "ename": "TypeError",
     "evalue": "can only concatenate str (not \"int\") to str",
     "output_type": "error",
     "traceback": [
      "\u001b[0;31m---------------------------------------------------------------------------\u001b[0m",
      "\u001b[0;31mTypeError\u001b[0m                                 Traceback (most recent call last)",
      "Cell \u001b[0;32mIn[56], line 1\u001b[0m\n\u001b[0;32m----> 1\u001b[0m \u001b[38;5;124;43m\"\u001b[39;49m\u001b[38;5;124;43m6\u001b[39;49m\u001b[38;5;124;43m\"\u001b[39;49m\u001b[38;5;241;43m+\u001b[39;49m\u001b[43m \u001b[49m\u001b[38;5;241;43m7\u001b[39;49m\n",
      "\u001b[0;31mTypeError\u001b[0m: can only concatenate str (not \"int\") to str"
     ]
    }
   ],
   "source": [
    "\"6\"+ 7 #cannot add string to a number or any object of different type."
   ]
  },
  {
   "cell_type": "code",
   "execution_count": 57,
   "id": "67dcddd2-83c0-4c74-b1c2-39828a2b922b",
   "metadata": {},
   "outputs": [
    {
     "data": {
      "text/plain": [
       "13"
      ]
     },
     "execution_count": 57,
     "metadata": {},
     "output_type": "execute_result"
    }
   ],
   "source": [
    "#type casting means that you are converting to other data type.\n",
    "\n",
    "int(\"6\") +  7"
   ]
  },
  {
   "cell_type": "code",
   "execution_count": 59,
   "id": "7e78890a-e27b-48dd-9983-c4ce84396e61",
   "metadata": {},
   "outputs": [
    {
     "data": {
      "text/plain": [
       "700"
      ]
     },
     "execution_count": 59,
     "metadata": {},
     "output_type": "execute_result"
    }
   ],
   "source": [
    "a = int(\"100\")\n",
    "b = 600\n",
    "a + b"
   ]
  },
  {
   "cell_type": "code",
   "execution_count": 64,
   "id": "27667719-d953-4d8b-8697-1717e5fe2790",
   "metadata": {},
   "outputs": [
    {
     "data": {
      "text/plain": [
       "1100.001"
      ]
     },
     "execution_count": 64,
     "metadata": {},
     "output_type": "execute_result"
    }
   ],
   "source": [
    "a = float(500)\n",
    "type(a)\n",
    "\n",
    "b = 600.001\n",
    "type(float(b))\n",
    "\n",
    "a+b #python can add integer and float it impliciitly understands this.\n"
   ]
  },
  {
   "cell_type": "code",
   "execution_count": 65,
   "id": "ab73631d-be8e-4a97-9c92-dcafe218e3b5",
   "metadata": {},
   "outputs": [
    {
     "data": {
      "text/plain": [
       "str"
      ]
     },
     "execution_count": 65,
     "metadata": {},
     "output_type": "execute_result"
    }
   ],
   "source": [
    "a = str(100)\n",
    "type(a)"
   ]
  },
  {
   "cell_type": "code",
   "execution_count": null,
   "id": "dc5a82c1-2f97-41e1-a614-a26730cd52ae",
   "metadata": {},
   "outputs": [],
   "source": [
    "a = \"string\" #cannot convert this into integer"
   ]
  },
  {
   "cell_type": "code",
   "execution_count": 66,
   "id": "d59eecd0-68ef-46f3-a87a-14202b95679c",
   "metadata": {},
   "outputs": [
    {
     "data": {
      "text/plain": [
       "False"
      ]
     },
     "execution_count": 66,
     "metadata": {},
     "output_type": "execute_result"
    }
   ],
   "source": [
    "bool(0)"
   ]
  },
  {
   "cell_type": "code",
   "execution_count": 67,
   "id": "c72e1e87-fa21-4bf1-9fcf-6f9adbc598c0",
   "metadata": {},
   "outputs": [
    {
     "data": {
      "text/plain": [
       "True"
      ]
     },
     "execution_count": 67,
     "metadata": {},
     "output_type": "execute_result"
    }
   ],
   "source": [
    "bool(1)"
   ]
  },
  {
   "cell_type": "code",
   "execution_count": null,
   "id": "d3f0acdd-0e6b-414f-b976-dafa3e054ef1",
   "metadata": {},
   "outputs": [],
   "source": [
    "#conditional statements\n",
    "#if condition\n",
    "#if else\n",
    "#if elif else\n",
    "#nested if else"
   ]
  },
  {
   "cell_type": "code",
   "execution_count": null,
   "id": "6f5552c1-9807-4074-8370-b073b1d5c5af",
   "metadata": {},
   "outputs": [],
   "source": [
    "#if condition is true then execute this block of code"
   ]
  },
  {
   "cell_type": "code",
   "execution_count": 91,
   "id": "423ad16f-7de1-4c4f-abda-0b158ec9f4d3",
   "metadata": {},
   "outputs": [
    {
     "name": "stdout",
     "output_type": "stream",
     "text": [
      "102\n"
     ]
    }
   ],
   "source": [
    "a = 2\n",
    "b = 100\n",
    "if a > 100:\n",
    "    print(\"a is greater than 100\") #one tab is four space\n",
    "else: \n",
    "    a+b\n",
    "    print(a+b)"
   ]
  },
  {
   "cell_type": "code",
   "execution_count": 79,
   "id": "e386ee66-3f2d-4f4c-8222-a9ccaefe9d8f",
   "metadata": {},
   "outputs": [
    {
     "name": "stdout",
     "output_type": "stream",
     "text": [
      "I will play cricket\n"
     ]
    }
   ],
   "source": [
    "weather = \"sunny\"\n",
    "if weather == \"rainy\":\n",
    "    print(\"I will not play cricket\")\n",
    "else:\n",
    "    print(\"I will play cricket\")"
   ]
  },
  {
   "cell_type": "code",
   "execution_count": 81,
   "id": "3d1db531-4c08-4688-b7b1-c761fd7fc9cb",
   "metadata": {},
   "outputs": [
    {
     "name": "stdout",
     "output_type": "stream",
     "text": [
      "It is not a room temperature\n"
     ]
    }
   ],
   "source": [
    "temp = 30\n",
    "if temp == 25:\n",
    "    print (\"It is room temperature\")\n",
    "else: \n",
    "    print (\"It is not a room temperature\")"
   ]
  },
  {
   "cell_type": "code",
   "execution_count": 87,
   "id": "48f40e65-791c-484e-8d45-da9730200df0",
   "metadata": {},
   "outputs": [
    {
     "name": "stdout",
     "output_type": "stream",
     "text": [
      "I am studing in pwskills\n"
     ]
    }
   ],
   "source": [
    "ds_course = True\n",
    "if ds_course: #automatically assumes that it is True\n",
    "    print(\"I am studing in pwskills\")"
   ]
  },
  {
   "cell_type": "code",
   "execution_count": 92,
   "id": "c80f6728-0b7b-4f78-81c1-f1d621bff0cf",
   "metadata": {},
   "outputs": [
    {
     "data": {
      "text/plain": [
       "1"
      ]
     },
     "execution_count": 92,
     "metadata": {},
     "output_type": "execute_result"
    }
   ],
   "source": [
    "#To check if a numbe is even or not\n",
    "7 % 2 # 1 output means odd number is not divisible by 2\n"
   ]
  },
  {
   "cell_type": "code",
   "execution_count": 93,
   "id": "52cfa557-3c4e-4544-9725-7c8671d59c2b",
   "metadata": {},
   "outputs": [
    {
     "data": {
      "text/plain": [
       "0"
      ]
     },
     "execution_count": 93,
     "metadata": {},
     "output_type": "execute_result"
    }
   ],
   "source": [
    "6 % 2"
   ]
  },
  {
   "cell_type": "code",
   "execution_count": 96,
   "id": "5bc59c1e-1c3b-40ba-ab2d-6ad7963f4b9c",
   "metadata": {},
   "outputs": [
    {
     "name": "stdout",
     "output_type": "stream",
     "text": [
      "number is odd\n"
     ]
    }
   ],
   "source": [
    "num = 7\n",
    "if num%2 == 0:\n",
    "        print(\"number is even\")\n",
    "else:\n",
    "    print(\"number is odd\")"
   ]
  },
  {
   "cell_type": "code",
   "execution_count": 98,
   "id": "480557e9-acee-4d9f-ab48-72ebada2374c",
   "metadata": {},
   "outputs": [
    {
     "name": "stdout",
     "output_type": "stream",
     "text": [
      "equals to 100\n"
     ]
    }
   ],
   "source": [
    "#multiple conditions if elif else\n",
    "\n",
    "a = 100\n",
    "if a > 100:\n",
    "    print(\"number is greater than 100\")\n",
    "elif a < 100:\n",
    "    print(\"number is smaller than 100\")\n",
    "else:\n",
    "    print(\"equals to 100\")"
   ]
  },
  {
   "cell_type": "code",
   "execution_count": null,
   "id": "2327d18e-3475-4da2-a188-938f23236ed5",
   "metadata": {},
   "outputs": [],
   "source": [
    "# define using if else conditions.\n",
    "# divide the number of hours in a day in the format of afternoon and so on.\n"
   ]
  }
 ],
 "metadata": {
  "kernelspec": {
   "display_name": "Python 3 (ipykernel)",
   "language": "python",
   "name": "python3"
  },
  "language_info": {
   "codemirror_mode": {
    "name": "ipython",
    "version": 3
   },
   "file_extension": ".py",
   "mimetype": "text/x-python",
   "name": "python",
   "nbconvert_exporter": "python",
   "pygments_lexer": "ipython3",
   "version": "3.10.8"
  }
 },
 "nbformat": 4,
 "nbformat_minor": 5
}
