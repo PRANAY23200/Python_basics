{
 "cells": [
  {
   "cell_type": "markdown",
   "id": "42c3eba4-263d-4f1e-9dcb-1dff99b98b17",
   "metadata": {
    "tags": []
   },
   "source": [
    "# Basics of python"
   ]
  },
  {
   "cell_type": "markdown",
   "id": "3ad43fe8-d621-4639-a362-24abc188e745",
   "metadata": {
    "tags": []
   },
   "source": [
    "## Answer 1."
   ]
  },
  {
   "cell_type": "markdown",
   "id": "527fd0da-4679-45e3-bb16-ec80bbccf33f",
   "metadata": {},
   "source": [
    "* Some of the key features of python that makes it popularly used in the Data industry are: \n",
    "  *  A huge number of libraries around 137000.\n",
    "  * It is a general purpose language used for web development, data analysis, automation, image processing etc.\n",
    "  * Ease of learning and readability."
   ]
  },
  {
   "cell_type": "markdown",
   "id": "026d7879-1c7b-4b8e-acea-078ee15da13c",
   "metadata": {
    "tags": []
   },
   "source": [
    "## Answer 2."
   ]
  },
  {
   "cell_type": "code",
   "execution_count": 2,
   "id": "a3cb883a-f544-4072-b4c4-1c706c0ad8f4",
   "metadata": {},
   "outputs": [
    {
     "name": "stdout",
     "output_type": "stream",
     "text": [
      "\n",
      "Here is a list of the Python keywords.  Enter any keyword to get more help.\n",
      "\n",
      "False               class               from                or\n",
      "None                continue            global              pass\n",
      "True                def                 if                  raise\n",
      "and                 del                 import              return\n",
      "as                  elif                in                  try\n",
      "assert              else                is                  while\n",
      "async               except              lambda              with\n",
      "await               finally             nonlocal            yield\n",
      "break               for                 not                 \n",
      "\n"
     ]
    }
   ],
   "source": [
    "\"\"\" Predefined keywords in Python are reserved words that are part of the Python language syntax and are used to define the structure and behavior \n",
    "    of the language. \"\"\"\n",
    "help(\"keywords\") #gives the list of the keywords that are available in python."
   ]
  },
  {
   "cell_type": "code",
   "execution_count": 3,
   "id": "0a998799-48b6-4c5b-9dbe-cf01f0dd9143",
   "metadata": {},
   "outputs": [
    {
     "data": {
      "text/plain": [
       "0"
      ]
     },
     "execution_count": 3,
     "metadata": {},
     "output_type": "execute_result"
    }
   ],
   "source": [
    "#This examples showcases two predefined keywords in python which are True and False and are predefined as boolean values as 1 and 0.\n",
    "a = True \n",
    "b = False\n",
    "\n",
    "a*b #multiplication of 1*0 should give 0"
   ]
  },
  {
   "cell_type": "code",
   "execution_count": 4,
   "id": "fb65174f-7bec-483b-98de-d1667dcd6a71",
   "metadata": {},
   "outputs": [
    {
     "data": {
      "text/plain": [
       "1"
      ]
     },
     "execution_count": 4,
     "metadata": {},
     "output_type": "execute_result"
    }
   ],
   "source": [
    "a-b #substraction of 1-0 should give 1"
   ]
  },
  {
   "cell_type": "code",
   "execution_count": 5,
   "id": "fd875e2a-eda4-4348-b166-e130ef109abc",
   "metadata": {},
   "outputs": [
    {
     "ename": "ZeroDivisionError",
     "evalue": "division by zero",
     "output_type": "error",
     "traceback": [
      "\u001b[0;31m---------------------------------------------------------------------------\u001b[0m",
      "\u001b[0;31mZeroDivisionError\u001b[0m                         Traceback (most recent call last)",
      "Cell \u001b[0;32mIn[5], line 1\u001b[0m\n\u001b[0;32m----> 1\u001b[0m \u001b[43ma\u001b[49m\u001b[38;5;241;43m/\u001b[39;49m\u001b[43mb\u001b[49m\n",
      "\u001b[0;31mZeroDivisionError\u001b[0m: division by zero"
     ]
    }
   ],
   "source": [
    "a/b #division of 1/0 should give ZeroDivisionError"
   ]
  },
  {
   "cell_type": "code",
   "execution_count": null,
   "id": "ce246c5f-81f5-468a-b8e2-75e61b253cb7",
   "metadata": {},
   "outputs": [],
   "source": [
    "#The above examples showcases mathematical operations of the keywords to prove that they are already predefined in python."
   ]
  },
  {
   "cell_type": "markdown",
   "id": "425929b5-479a-4f05-87a5-114b438029fd",
   "metadata": {
    "tags": []
   },
   "source": [
    "## Answer 3."
   ]
  },
  {
   "cell_type": "markdown",
   "id": "178bb436-a11c-4208-ae81-33483fc7772f",
   "metadata": {
    "jp-MarkdownHeadingCollapsed": true,
    "tags": []
   },
   "source": [
    "### Mutable ojects"
   ]
  },
  {
   "cell_type": "code",
   "execution_count": 17,
   "id": "bc51d054-9be1-48dd-83f5-b35fbceeea1a",
   "metadata": {},
   "outputs": [
    {
     "data": {
      "text/plain": [
       "[1, 'change', 3, 3]"
      ]
     },
     "execution_count": 17,
     "metadata": {},
     "output_type": "execute_result"
    }
   ],
   "source": [
    "#A list is a collection of items that are ordered and changeable. Lists allow duplicate elements and can contain items of different types.\n",
    "List = [1,2,3,3]\n",
    "List[1] = \"change\"\n",
    "\n",
    "List #The above should replace 2 with change in the list showing that list is a mutable object."
   ]
  },
  {
   "cell_type": "code",
   "execution_count": 15,
   "id": "baa44bc1-1adc-4d9d-9e94-ed8537416786",
   "metadata": {},
   "outputs": [
    {
     "data": {
      "text/plain": [
       "{'c': 3, 'd': 2}"
      ]
     },
     "execution_count": 15,
     "metadata": {},
     "output_type": "execute_result"
    }
   ],
   "source": [
    "#A dictionary is a collection of key-value pairs. Each key is unique and maps to a value.\n",
    "Dict = {'c': 1, 'd': 2}\n",
    "Dict['c'] = 3  # Dict is now {'c': 3, 'c': 2}\n",
    "Dict \n"
   ]
  },
  {
   "cell_type": "markdown",
   "id": "ce9eefe4-b1d8-4280-bc25-ab4c63072164",
   "metadata": {
    "jp-MarkdownHeadingCollapsed": true,
    "tags": []
   },
   "source": [
    "### Immutable objects"
   ]
  },
  {
   "cell_type": "code",
   "execution_count": 9,
   "id": "2cd57de3-fd61-4266-881b-9123aeedf4bd",
   "metadata": {},
   "outputs": [
    {
     "ename": "TypeError",
     "evalue": "'str' object does not support item assignment",
     "output_type": "error",
     "traceback": [
      "\u001b[0;31m---------------------------------------------------------------------------\u001b[0m",
      "\u001b[0;31mTypeError\u001b[0m                                 Traceback (most recent call last)",
      "Cell \u001b[0;32mIn[9], line 2\u001b[0m\n\u001b[1;32m      1\u001b[0m String \u001b[38;5;241m=\u001b[39m \u001b[38;5;124m\"\u001b[39m\u001b[38;5;124mchange\u001b[39m\u001b[38;5;124m\"\u001b[39m\n\u001b[0;32m----> 2\u001b[0m \u001b[43mString\u001b[49m\u001b[43m[\u001b[49m\u001b[38;5;241;43m2\u001b[39;49m\u001b[43m]\u001b[49m \u001b[38;5;241m=\u001b[39m \u001b[38;5;124m\"\u001b[39m\u001b[38;5;124mgame\u001b[39m\u001b[38;5;124m\"\u001b[39m\n",
      "\u001b[0;31mTypeError\u001b[0m: 'str' object does not support item assignment"
     ]
    }
   ],
   "source": [
    "#A string is a sequence of characters. Strings are used to represent text.\n",
    "String = \"change\"\n",
    "String[2] = \"game\" #Gives TypeError: 'str' object does not support item assignment showing that string is a immutable object."
   ]
  },
  {
   "cell_type": "code",
   "execution_count": 16,
   "id": "5bd7c3b2-817d-41da-9c94-66454ea7b0e7",
   "metadata": {},
   "outputs": [
    {
     "ename": "TypeError",
     "evalue": "'tuple' object does not support item assignment",
     "output_type": "error",
     "traceback": [
      "\u001b[0;31m---------------------------------------------------------------------------\u001b[0m",
      "\u001b[0;31mTypeError\u001b[0m                                 Traceback (most recent call last)",
      "Cell \u001b[0;32mIn[16], line 2\u001b[0m\n\u001b[1;32m      1\u001b[0m Tuple \u001b[38;5;241m=\u001b[39m (\u001b[38;5;241m1\u001b[39m, \u001b[38;5;241m2\u001b[39m, \u001b[38;5;241m3\u001b[39m)\n\u001b[0;32m----> 2\u001b[0m \u001b[43mTuple\u001b[49m\u001b[43m[\u001b[49m\u001b[38;5;241;43m1\u001b[39;49m\u001b[43m]\u001b[49m \u001b[38;5;241m=\u001b[39m \u001b[38;5;241m8\u001b[39m\n\u001b[1;32m      3\u001b[0m Tuple\n",
      "\u001b[0;31mTypeError\u001b[0m: 'tuple' object does not support item assignment"
     ]
    }
   ],
   "source": [
    "#A tuple is similar to a list but is immutable. Tuples are used to group related data.\n",
    "Tuple = (1, 2, 3)\n",
    "Tuple[1] = 8\n",
    "Tuple #Gives TypeError: 'tuple' object does not support item assignment showing that tuple is a immutable object.\n"
   ]
  },
  {
   "cell_type": "markdown",
   "id": "fae1a0d8-7164-4085-92b2-7242039cf135",
   "metadata": {
    "tags": []
   },
   "source": [
    "### Comparsion and contrast\n",
    "\n",
    "* List and Dictionary are the example of mutable objects means that items contained in these objects can be changed and supports item assignment.\n",
    "* A dictionary is a collection of key-value pairs. Each key is unique and maps to a value unlike list which is a collection of items which are not \n",
    "  assigned a key value pair.\n",
    "* Strings and tuple are the example of immutable objects and does not support item assignment.\n",
    "* A tuple is similar to a list but is immutable.\n"
   ]
  },
  {
   "cell_type": "markdown",
   "id": "9ac90ecd-1c61-4ce7-89a5-cdf0719f87b2",
   "metadata": {},
   "source": [
    "## Answer 4."
   ]
  },
  {
   "cell_type": "markdown",
   "id": "70c69211-7f53-4a72-a65b-9634f00d9c15",
   "metadata": {},
   "source": [
    "* Arithmetic operators are used to perform mathematical operations such as addition, subtraction, multiplication, and division.\n",
    "  Eg. \n",
    "\n"
   ]
  },
  {
   "cell_type": "code",
   "execution_count": null,
   "id": "e20a1837-1ea9-41c1-b5bd-59b8db05ede4",
   "metadata": {},
   "outputs": [],
   "source": [
    "3 + 2 # Output: 5"
   ]
  },
  {
   "cell_type": "code",
   "execution_count": null,
   "id": "5ccba76b-b4d7-4eda-85df-cb6642c9e6a7",
   "metadata": {},
   "outputs": [],
   "source": [
    "3 ** 2  # Output: 9"
   ]
  },
  {
   "cell_type": "markdown",
   "id": "c7cd21ed-ac00-4cf0-b11f-43e971016471",
   "metadata": {},
   "source": [
    "* Comparison operators are used to compare two values and return a Boolean result."
   ]
  },
  {
   "cell_type": "code",
   "execution_count": null,
   "id": "f95e4ff9-fde3-4d75-8ac8-a09a7d3c229b",
   "metadata": {},
   "outputs": [],
   "source": [
    "3 == 2  # Output: False"
   ]
  },
  {
   "cell_type": "code",
   "execution_count": null,
   "id": "1baef0ee-a7ff-447f-b8ce-4434e6d80658",
   "metadata": {},
   "outputs": [],
   "source": [
    "3 >= 2  # Output: True"
   ]
  },
  {
   "cell_type": "markdown",
   "id": "e3002833-a5a9-4030-8e50-417ef4da7959",
   "metadata": {},
   "source": [
    "* Logical Operators are used to combine conditional statements."
   ]
  },
  {
   "cell_type": "code",
   "execution_count": null,
   "id": "ba68abed-9137-4dcd-a817-00f1d09f3686",
   "metadata": {},
   "outputs": [],
   "source": [
    "True and False # Output: False"
   ]
  },
  {
   "cell_type": "code",
   "execution_count": null,
   "id": "7c01daa0-a3bf-40f3-8e56-ec3f176c8d06",
   "metadata": {},
   "outputs": [],
   "source": [
    "(3 > 2) and (3 < 4) #Output: True"
   ]
  },
  {
   "cell_type": "markdown",
   "id": "b05bfc0e-f0ca-4ea6-a3ea-8116e7045707",
   "metadata": {},
   "source": [
    "* Bitwise operators are used to perform bit-level operations.\n",
    "\n"
   ]
  },
  {
   "cell_type": "code",
   "execution_count": null,
   "id": "50a8c00e-39f2-465b-b75e-76294fc53103",
   "metadata": {},
   "outputs": [],
   "source": [
    "# Bitwise & \n",
    "3 & 2  # Output: 2"
   ]
  },
  {
   "cell_type": "code",
   "execution_count": null,
   "id": "2a974555-ac6f-4c68-b6b2-2fd0981ad717",
   "metadata": {},
   "outputs": [],
   "source": [
    "# Bitwise OR \n",
    "3 | 2  # Output: 3"
   ]
  },
  {
   "cell_type": "code",
   "execution_count": null,
   "id": "b00df83a-ed24-481a-9440-22e77933d564",
   "metadata": {},
   "outputs": [],
   "source": [
    "# Bitwise XOR\n",
    "3 ^ 2  # Output: 1"
   ]
  },
  {
   "cell_type": "code",
   "execution_count": null,
   "id": "5d232a86-e28c-4540-bfa1-27f8e8d67542",
   "metadata": {},
   "outputs": [],
   "source": [
    "# Bitwise NOT\n",
    "~3  # Output: -4"
   ]
  },
  {
   "cell_type": "code",
   "execution_count": null,
   "id": "1bdb5e89-76d0-4bd9-ae90-d79f60449e5f",
   "metadata": {},
   "outputs": [],
   "source": [
    "# Bitwise left shift\n",
    "3 << 2  # Output: 12"
   ]
  },
  {
   "cell_type": "code",
   "execution_count": null,
   "id": "7ecd3542-0098-4fc6-b4d0-161ee3936f5b",
   "metadata": {},
   "outputs": [],
   "source": [
    "# Bitwise right shift\n",
    "3 >> 2  # Output: 0"
   ]
  },
  {
   "cell_type": "markdown",
   "id": "6bd27545-fa68-41cf-9c38-838f5ed68bdd",
   "metadata": {},
   "source": [
    "* Assignment operators are used to assign values to variables.\n",
    "\n"
   ]
  },
  {
   "cell_type": "code",
   "execution_count": null,
   "id": "6b61152c-84d9-40ec-b036-380e822b2510",
   "metadata": {},
   "outputs": [],
   "source": [
    "#Assign\n",
    "x = 2\n",
    "#Add and Assign\n",
    "x += 2  # Equivalent to x = x + 2"
   ]
  },
  {
   "cell_type": "markdown",
   "id": "8a5910fa-b58a-47df-8127-571b2b1a956b",
   "metadata": {},
   "source": [
    "* Membership operators are used to test if a sequence is present in an object."
   ]
  },
  {
   "cell_type": "code",
   "execution_count": null,
   "id": "fa807c5c-2461-4595-b42c-59cda343287a",
   "metadata": {},
   "outputs": [],
   "source": [
    "3 in [1, 2, 3]  # Output: True"
   ]
  },
  {
   "cell_type": "markdown",
   "id": "ef51e34e-f011-405c-8a07-1cd183ef5539",
   "metadata": {},
   "source": [
    "* Identity operators are used to compare the memory locations of two objects."
   ]
  },
  {
   "cell_type": "code",
   "execution_count": null,
   "id": "083ee8dc-c3ca-4107-8203-61234a70ca70",
   "metadata": {},
   "outputs": [],
   "source": [
    "x = [1, 2, 3]\n",
    "y = x\n",
    "x is y  # Output: True"
   ]
  },
  {
   "cell_type": "markdown",
   "id": "8c5b2bb5-b94b-41ef-b904-d2a6c134a201",
   "metadata": {
    "tags": []
   },
   "source": [
    "## Answer 5."
   ]
  },
  {
   "cell_type": "markdown",
   "id": "27c5ede7-3277-48f8-906b-b46477ff5ce6",
   "metadata": {},
   "source": [
    "* Type casting in Python refers to the conversion of one data type into another. This can be useful when you need to perform operations that   require a specific data type or when you need to ensure that your data is in the correct format."
   ]
  },
  {
   "cell_type": "code",
   "execution_count": null,
   "id": "bce31cf8-24c4-4caa-bc01-b0c38955f625",
   "metadata": {},
   "outputs": [],
   "source": [
    "#Eg. int() converts other datatypes into interger but doesn't work for strings.\n",
    "x = int(1.5)  # Output: 1\n",
    "y = int(\"42\")  # Output: 42"
   ]
  },
  {
   "cell_type": "code",
   "execution_count": null,
   "id": "0eecb103-9986-4f1a-90c4-ab0e66b369ee",
   "metadata": {},
   "outputs": [],
   "source": [
    "#Eg. str() converts other datatypes into string. \n",
    "x = str(42)  # Output: \"42\"\n",
    "y = str(3.14)  # Output: \"3.14\""
   ]
  },
  {
   "cell_type": "markdown",
   "id": "b55d56ab-e2d1-4e84-8871-36673ecd5ce6",
   "metadata": {},
   "source": [
    "## Answer 6."
   ]
  },
  {
   "cell_type": "markdown",
   "id": "810196b3-42c9-45e3-9e9f-5e365f184d1a",
   "metadata": {},
   "source": [
    "* Conditional statements in Python allow you to execute different blocks of code based on certain conditions. The primary conditional        statements in Python are if, elif, and else. "
   ]
  },
  {
   "cell_type": "code",
   "execution_count": null,
   "id": "36bcbad7-025c-4f1b-8e26-cba8eb68c957",
   "metadata": {},
   "outputs": [],
   "source": [
    "#Eg.\n",
    "weather = \"sunny\"\n",
    "if weather == \"rainy\":\n",
    "    print(\"I will not play cricket\")\n",
    "else:\n",
    "    print(\"I will play cricket\") # Output: I will play cricket"
   ]
  },
  {
   "cell_type": "code",
   "execution_count": 1,
   "id": "3b64e183-5b1e-4e28-ac4c-e77024e716a3",
   "metadata": {},
   "outputs": [
    {
     "name": "stdout",
     "output_type": "stream",
     "text": [
      "equals to 100\n"
     ]
    }
   ],
   "source": [
    "#Eg. \n",
    "a = 100\n",
    "if a > 100:\n",
    "    print(\"number is greater than 100\")\n",
    "elif a < 100:\n",
    "    print(\"number is smaller than 100\")\n",
    "else:\n",
    "    print(\"equals to 100\") # Output: equals to 100"
   ]
  },
  {
   "cell_type": "markdown",
   "id": "ae80f9bd-bb2b-4580-a8d4-77b6c082f707",
   "metadata": {
    "tags": []
   },
   "source": [
    "## Answer 7"
   ]
  },
  {
   "cell_type": "markdown",
   "id": "c5872a42-190b-47c8-9f17-7588a6083e16",
   "metadata": {},
   "source": [
    "#### While loop "
   ]
  },
  {
   "cell_type": "markdown",
   "id": "dbe2d008-bdaf-4852-ad03-2966b9f1a678",
   "metadata": {},
   "source": [
    "* While loop repeatedly executes a block of code until a condition is met"
   ]
  },
  {
   "cell_type": "code",
   "execution_count": 9,
   "id": "bba3a08b-0379-440e-ae8b-04416f1b8036",
   "metadata": {},
   "outputs": [
    {
     "name": "stdout",
     "output_type": "stream",
     "text": [
      "1\n",
      "2\n",
      "2\n",
      "3\n",
      "4\n",
      "4\n",
      "5\n",
      "5\n",
      "6\n",
      "6\n",
      "7\n"
     ]
    }
   ],
   "source": [
    "n = 7\n",
    "i = 1\n",
    "\n",
    "while i < 7:\n",
    "    print(i)\n",
    "    i = i + 1\n",
    "    "
   ]
  },
  {
   "cell_type": "markdown",
   "id": "627388a3-0f5d-408a-bd34-e45d40ef79ac",
   "metadata": {},
   "source": [
    "#### For loop"
   ]
  },
  {
   "cell_type": "markdown",
   "id": "f8d3e488-4840-49b8-bd5e-169b23c26cf1",
   "metadata": {},
   "source": [
    "* For loop iterates over a sequence of elements i.e strings , lists etc."
   ]
  },
  {
   "cell_type": "code",
   "execution_count": 11,
   "id": "8f6f40bb-8d82-467d-95ce-0217e905318e",
   "metadata": {},
   "outputs": [
    {
     "name": "stdout",
     "output_type": "stream",
     "text": [
      "1\n",
      "23\n",
      "pranay\n",
      "Sam\n"
     ]
    }
   ],
   "source": [
    "l = [1,23,\"pranay\",\"Sam\"]\n",
    "for i in l:\n",
    "    print(i)"
   ]
  },
  {
   "cell_type": "code",
   "execution_count": null,
   "id": "f610559b-6999-4134-863f-4b700de4933b",
   "metadata": {},
   "outputs": [],
   "source": []
  }
 ],
 "metadata": {
  "kernelspec": {
   "display_name": "Python 3 (ipykernel)",
   "language": "python",
   "name": "python3"
  },
  "language_info": {
   "codemirror_mode": {
    "name": "ipython",
    "version": 3
   },
   "file_extension": ".py",
   "mimetype": "text/x-python",
   "name": "python",
   "nbconvert_exporter": "python",
   "pygments_lexer": "ipython3",
   "version": "3.10.8"
  }
 },
 "nbformat": 4,
 "nbformat_minor": 5
}
