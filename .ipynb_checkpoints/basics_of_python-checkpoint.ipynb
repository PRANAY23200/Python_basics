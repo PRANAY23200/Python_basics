{
 "cells": [
  {
   "cell_type": "code",
   "execution_count": 1,
   "id": "346f7ab0-ed5a-400f-b3c2-a0f058c83ecf",
   "metadata": {},
   "outputs": [
    {
     "name": "stdout",
     "output_type": "stream",
     "text": [
      "hello world\n"
     ]
    }
   ],
   "source": [
    "print(\"hello world\")"
   ]
  },
  {
   "cell_type": "code",
   "execution_count": 8,
   "id": "4e861df8-1cb1-49a9-8066-b9da98b8b5ef",
   "metadata": {},
   "outputs": [],
   "source": [
    "a = 3 "
   ]
  },
  {
   "cell_type": "code",
   "execution_count": 9,
   "id": "4322c939-a709-4164-9058-c6eb5298fa73",
   "metadata": {},
   "outputs": [
    {
     "data": {
      "text/plain": [
       "int"
      ]
     },
     "execution_count": 9,
     "metadata": {},
     "output_type": "execute_result"
    }
   ],
   "source": [
    "type(a)"
   ]
  },
  {
   "cell_type": "code",
   "execution_count": 10,
   "id": "1550a4f3-5714-4ca6-b131-24113b63968a",
   "metadata": {},
   "outputs": [
    {
     "data": {
      "text/plain": [
       "3"
      ]
     },
     "execution_count": 10,
     "metadata": {},
     "output_type": "execute_result"
    }
   ],
   "source": [
    "a"
   ]
  },
  {
   "cell_type": "code",
   "execution_count": 11,
   "id": "5f542d81-6e14-4982-bf39-84cf9c04b07d",
   "metadata": {},
   "outputs": [],
   "source": [
    "c = 0.3\n"
   ]
  },
  {
   "cell_type": "code",
   "execution_count": 12,
   "id": "3c57ae2b-59ec-49d1-b03c-158e73893e29",
   "metadata": {},
   "outputs": [
    {
     "data": {
      "text/plain": [
       "float"
      ]
     },
     "execution_count": 12,
     "metadata": {},
     "output_type": "execute_result"
    }
   ],
   "source": [
    "type(c)"
   ]
  },
  {
   "cell_type": "code",
   "execution_count": 13,
   "id": "5a16b22a-c84a-44be-bac6-da246a5808d7",
   "metadata": {},
   "outputs": [
    {
     "ename": "SyntaxError",
     "evalue": "invalid syntax (2977295911.py, line 1)",
     "output_type": "error",
     "traceback": [
      "\u001b[0;36m  Cell \u001b[0;32mIn[13], line 1\u001b[0;36m\u001b[0m\n\u001b[0;31m    d =\u001b[0m\n\u001b[0m        ^\u001b[0m\n\u001b[0;31mSyntaxError\u001b[0m\u001b[0;31m:\u001b[0m invalid syntax\n"
     ]
    }
   ],
   "source": [
    "d = "
   ]
  },
  {
   "cell_type": "code",
   "execution_count": 14,
   "id": "d4d9ad0c-b4f0-405f-958a-d36fe62b14d6",
   "metadata": {},
   "outputs": [],
   "source": [
    "d = \"string\"\n"
   ]
  },
  {
   "cell_type": "code",
   "execution_count": 15,
   "id": "d9c814ff-bc54-443b-9bd4-bf0472601fb0",
   "metadata": {},
   "outputs": [
    {
     "data": {
      "text/plain": [
       "'string'"
      ]
     },
     "execution_count": 15,
     "metadata": {},
     "output_type": "execute_result"
    }
   ],
   "source": [
    "d\n"
   ]
  },
  {
   "cell_type": "code",
   "execution_count": 16,
   "id": "e5f46da9-11af-4162-8275-b413ede58d68",
   "metadata": {},
   "outputs": [
    {
     "data": {
      "text/plain": [
       "bool"
      ]
     },
     "execution_count": 16,
     "metadata": {},
     "output_type": "execute_result"
    }
   ],
   "source": [
    "a = True\n",
    "type(a)\n"
   ]
  },
  {
   "cell_type": "code",
   "execution_count": 17,
   "id": "7cefd62f-7a5b-402d-ab63-c3eda5a5e19b",
   "metadata": {},
   "outputs": [
    {
     "data": {
      "text/plain": [
       "int"
      ]
     },
     "execution_count": 17,
     "metadata": {},
     "output_type": "execute_result"
    }
   ],
   "source": [
    "false = 0\n",
    "type(false)\n"
   ]
  },
  {
   "cell_type": "code",
   "execution_count": 18,
   "id": "e8d46668-99f4-4e6d-8b3c-8792281f9d38",
   "metadata": {},
   "outputs": [
    {
     "data": {
      "text/plain": [
       "1"
      ]
     },
     "execution_count": 18,
     "metadata": {},
     "output_type": "execute_result"
    }
   ],
   "source": [
    "True - False\n"
   ]
  },
  {
   "cell_type": "code",
   "execution_count": 19,
   "id": "50ebd296-c6f4-4dce-b53a-7a3961afaab2",
   "metadata": {},
   "outputs": [
    {
     "data": {
      "text/plain": [
       "0"
      ]
     },
     "execution_count": 19,
     "metadata": {},
     "output_type": "execute_result"
    }
   ],
   "source": [
    "True*False\n"
   ]
  },
  {
   "cell_type": "code",
   "execution_count": 20,
   "id": "86cf8d9a-88b3-4e59-8d22-bc88b38440f1",
   "metadata": {},
   "outputs": [
    {
     "data": {
      "text/plain": [
       "0.0"
      ]
     },
     "execution_count": 20,
     "metadata": {},
     "output_type": "execute_result"
    }
   ],
   "source": [
    "False/True"
   ]
  },
  {
   "cell_type": "code",
   "execution_count": 21,
   "id": "c667bb2c-76d1-45af-a778-daf2f1cc0ffe",
   "metadata": {},
   "outputs": [
    {
     "ename": "ZeroDivisionError",
     "evalue": "division by zero",
     "output_type": "error",
     "traceback": [
      "\u001b[0;31m---------------------------------------------------------------------------\u001b[0m",
      "\u001b[0;31mZeroDivisionError\u001b[0m                         Traceback (most recent call last)",
      "Cell \u001b[0;32mIn[21], line 1\u001b[0m\n\u001b[0;32m----> 1\u001b[0m \u001b[38;5;28;43;01mTrue\u001b[39;49;00m\u001b[38;5;241;43m/\u001b[39;49m\u001b[38;5;28;43;01mFalse\u001b[39;49;00m\n",
      "\u001b[0;31mZeroDivisionError\u001b[0m: division by zero"
     ]
    }
   ],
   "source": [
    "True/False"
   ]
  },
  {
   "cell_type": "code",
   "execution_count": 22,
   "id": "7724125d-8377-461d-8024-a6af5a813ded",
   "metadata": {},
   "outputs": [
    {
     "data": {
      "text/plain": [
       "complex"
      ]
     },
     "execution_count": 22,
     "metadata": {},
     "output_type": "execute_result"
    }
   ],
   "source": [
    "c = 5+6j\n",
    "type(c)"
   ]
  },
  {
   "cell_type": "code",
   "execution_count": 23,
   "id": "eddb46c4-6c72-45eb-b318-cfe1499dd955",
   "metadata": {},
   "outputs": [
    {
     "data": {
      "text/plain": [
       "5.0"
      ]
     },
     "execution_count": 23,
     "metadata": {},
     "output_type": "execute_result"
    }
   ],
   "source": [
    "c.real\n"
   ]
  },
  {
   "cell_type": "code",
   "execution_count": 24,
   "id": "3a58f90d-a734-4a92-bcae-f08afe781d22",
   "metadata": {},
   "outputs": [
    {
     "ename": "AttributeError",
     "evalue": "'complex' object has no attribute 'img'",
     "output_type": "error",
     "traceback": [
      "\u001b[0;31m---------------------------------------------------------------------------\u001b[0m",
      "\u001b[0;31mAttributeError\u001b[0m                            Traceback (most recent call last)",
      "Cell \u001b[0;32mIn[24], line 1\u001b[0m\n\u001b[0;32m----> 1\u001b[0m \u001b[43mc\u001b[49m\u001b[38;5;241;43m.\u001b[39;49m\u001b[43mimg\u001b[49m\n",
      "\u001b[0;31mAttributeError\u001b[0m: 'complex' object has no attribute 'img'"
     ]
    }
   ],
   "source": [
    "c.img"
   ]
  },
  {
   "cell_type": "code",
   "execution_count": 25,
   "id": "21e0f1d8-2906-48aa-ab8d-5232e6f6b572",
   "metadata": {},
   "outputs": [
    {
     "data": {
      "text/plain": [
       "6.0"
      ]
     },
     "execution_count": 25,
     "metadata": {},
     "output_type": "execute_result"
    }
   ],
   "source": [
    "c.imag"
   ]
  },
  {
   "cell_type": "code",
   "execution_count": null,
   "id": "7557ae68-bdc5-4bef-ac2a-ec48495b2a12",
   "metadata": {},
   "outputs": [],
   "source": [
    "#rules of defining a variable"
   ]
  },
  {
   "cell_type": "code",
   "execution_count": null,
   "id": "8bb6b7e2-bee8-4208-a9ca-74372582c2b7",
   "metadata": {},
   "outputs": [],
   "source": [
    "#variable should only start with a letter or underscore"
   ]
  },
  {
   "cell_type": "code",
   "execution_count": 26,
   "id": "7ba75789-f1ac-4b6f-9336-83a7efdfb786",
   "metadata": {},
   "outputs": [
    {
     "ename": "SyntaxError",
     "evalue": "cannot assign to literal here. Maybe you meant '==' instead of '='? (1685550149.py, line 2)",
     "output_type": "error",
     "traceback": [
      "\u001b[0;36m  Cell \u001b[0;32mIn[26], line 2\u001b[0;36m\u001b[0m\n\u001b[0;31m    5 = a\u001b[0m\n\u001b[0m    ^\u001b[0m\n\u001b[0;31mSyntaxError\u001b[0m\u001b[0;31m:\u001b[0m cannot assign to literal here. Maybe you meant '==' instead of '='?\n"
     ]
    }
   ],
   "source": [
    "# How not to define a variable (give error)\n",
    "5 = a"
   ]
  },
  {
   "cell_type": "code",
   "execution_count": 28,
   "id": "11784944-053a-4361-83e9-1e7fd9ee9ce7",
   "metadata": {},
   "outputs": [
    {
     "ename": "SyntaxError",
     "evalue": "unterminated string literal (detected at line 4) (3687756697.py, line 4)",
     "output_type": "error",
     "traceback": [
      "\u001b[0;36m  Cell \u001b[0;32mIn[28], line 4\u001b[0;36m\u001b[0m\n\u001b[0;31m    data-analytics = \"pwskills'\u001b[0m\n\u001b[0m                     ^\u001b[0m\n\u001b[0;31mSyntaxError\u001b[0m\u001b[0;31m:\u001b[0m unterminated string literal (detected at line 4)\n"
     ]
    }
   ],
   "source": [
    "# No special cases\n",
    "@abc = \"string\"\n",
    "a-bc = \"string\"\n",
    "data-analytics = \"pwskills'\n",
    "_1 = \"string\""
   ]
  },
  {
   "cell_type": "code",
   "execution_count": 30,
   "id": "9df38d63-bb86-405b-8dfb-3e99b4c29875",
   "metadata": {},
   "outputs": [],
   "source": [
    "_1 = \"string\"\n"
   ]
  },
  {
   "cell_type": "code",
   "execution_count": 31,
   "id": "7dd681ac-3c02-4e51-acc8-c59ffb113c1c",
   "metadata": {},
   "outputs": [
    {
     "data": {
      "text/plain": [
       "'string'"
      ]
     },
     "execution_count": 31,
     "metadata": {},
     "output_type": "execute_result"
    }
   ],
   "source": [
    "_1"
   ]
  },
  {
   "cell_type": "code",
   "execution_count": 32,
   "id": "ebf783b5-a064-41ee-9745-34b7030b9467",
   "metadata": {},
   "outputs": [],
   "source": [
    "name = \"pwskills\"\n"
   ]
  },
  {
   "cell_type": "code",
   "execution_count": null,
   "id": "1e9f31e2-6cb8-457f-8545-80f63f0eb9d4",
   "metadata": {},
   "outputs": [],
   "source": [
    "name"
   ]
  },
  {
   "cell_type": "code",
   "execution_count": 33,
   "id": "e34f237c-8208-4d13-9c05-d9d2dcee64fd",
   "metadata": {},
   "outputs": [],
   "source": [
    "salary = 20000\n"
   ]
  },
  {
   "cell_type": "code",
   "execution_count": 34,
   "id": "35651e81-1a66-4044-8313-0510bd11d60d",
   "metadata": {},
   "outputs": [
    {
     "data": {
      "text/plain": [
       "20000"
      ]
     },
     "execution_count": 34,
     "metadata": {},
     "output_type": "execute_result"
    }
   ],
   "source": [
    "salary\n"
   ]
  },
  {
   "cell_type": "code",
   "execution_count": 35,
   "id": "c84fe365-b73d-4aaf-a325-c8a30eb6b18f",
   "metadata": {},
   "outputs": [],
   "source": [
    "# Note: variable should always start with a letter or underscore\n"
   ]
  },
  {
   "cell_type": "code",
   "execution_count": null,
   "id": "e12b4104-36f0-4f2a-b7ee-3e4357441abf",
   "metadata": {},
   "outputs": [],
   "source": [
    "# a = 0\n",
    "# a = 8\n",
    "# Ctrl + / for commenting everything in a go"
   ]
  },
  {
   "cell_type": "code",
   "execution_count": 36,
   "id": "1006394e-a143-4c4d-9fc3-babb560035a2",
   "metadata": {},
   "outputs": [
    {
     "data": {
      "text/plain": [
       "7"
      ]
     },
     "execution_count": 36,
     "metadata": {},
     "output_type": "execute_result"
    }
   ],
   "source": [
    "#docstring\n",
    "\"\"\"\n",
    "i am pranay\n",
    "\"\"\"\n",
    "4+3"
   ]
  },
  {
   "cell_type": "code",
   "execution_count": null,
   "id": "6521db15-7b39-4923-b1b3-559c4ead5aa8",
   "metadata": {},
   "outputs": [],
   "source": [
    "print(\"hello world)\n",
    "#keywords in python are predefined words eg. print is a keyword\n",
    "      # around 35 keywords\n",
    "      "
   ]
  },
  {
   "cell_type": "code",
   "execution_count": 37,
   "id": "4317e4eb-0ffa-40dd-974d-3cf672eb5803",
   "metadata": {},
   "outputs": [
    {
     "name": "stdout",
     "output_type": "stream",
     "text": [
      "\n",
      "Here is a list of the Python keywords.  Enter any keyword to get more help.\n",
      "\n",
      "False               class               from                or\n",
      "None                continue            global              pass\n",
      "True                def                 if                  raise\n",
      "and                 del                 import              return\n",
      "as                  elif                in                  try\n",
      "assert              else                is                  while\n",
      "async               except              lambda              with\n",
      "await               finally             nonlocal            yield\n",
      "break               for                 not                 \n",
      "\n"
     ]
    }
   ],
   "source": [
    "help(\"keywords\")\n"
   ]
  },
  {
   "cell_type": "code",
   "execution_count": 39,
   "id": "d827556f-90ba-465f-8ccb-437297b94815",
   "metadata": {},
   "outputs": [],
   "source": [
    "print = \"Ram\"\n"
   ]
  },
  {
   "cell_type": "code",
   "execution_count": 40,
   "id": "5b67cb77-9102-4f1d-9699-0f87b35a221f",
   "metadata": {},
   "outputs": [
    {
     "ename": "TypeError",
     "evalue": "'str' object is not callable",
     "output_type": "error",
     "traceback": [
      "\u001b[0;31m---------------------------------------------------------------------------\u001b[0m",
      "\u001b[0;31mTypeError\u001b[0m                                 Traceback (most recent call last)",
      "Cell \u001b[0;32mIn[40], line 1\u001b[0m\n\u001b[0;32m----> 1\u001b[0m \u001b[38;5;28;43mprint\u001b[39;49m\u001b[43m(\u001b[49m\u001b[38;5;124;43m\"\u001b[39;49m\u001b[38;5;124;43mhello world\u001b[39;49m\u001b[38;5;124;43m\"\u001b[39;49m\u001b[43m)\u001b[49m\n",
      "\u001b[0;31mTypeError\u001b[0m: 'str' object is not callable"
     ]
    }
   ],
   "source": [
    "print(\"hello world\")"
   ]
  },
  {
   "cell_type": "code",
   "execution_count": 43,
   "id": "c3de3d84-971e-4ef3-8082-bfd222578805",
   "metadata": {},
   "outputs": [],
   "source": [
    "a = \"3.5\" # double quote or single quote makes it a string rather than float\n"
   ]
  },
  {
   "cell_type": "code",
   "execution_count": 42,
   "id": "b7883e51-3721-4677-b409-4fd9b779cd8d",
   "metadata": {},
   "outputs": [
    {
     "data": {
      "text/plain": [
       "str"
      ]
     },
     "execution_count": 42,
     "metadata": {},
     "output_type": "execute_result"
    }
   ],
   "source": [
    "type(a)"
   ]
  },
  {
   "cell_type": "code",
   "execution_count": null,
   "id": "0dde5103-c2e0-49bf-885f-d81368fd3c7a",
   "metadata": {},
   "outputs": [],
   "source": [
    "#python is a case sensitive language"
   ]
  },
  {
   "cell_type": "code",
   "execution_count": 45,
   "id": "61409b9e-f9b0-47b7-9fa2-e927896a702f",
   "metadata": {},
   "outputs": [],
   "source": [
    "a = \"string\"\n",
    "b = 5\n",
    "#data container are a and b over here\n",
    "#How to access the a particular alphabets of string well each alphabet\n",
    "#is stored index as 012345 but from the left to right and for right to \n",
    "#left is is accessed as -1-2-3-4-5\n"
   ]
  },
  {
   "cell_type": "code",
   "execution_count": 46,
   "id": "cfeeba75-99f3-467b-b7da-ba457b669680",
   "metadata": {},
   "outputs": [
    {
     "data": {
      "text/plain": [
       "'r'"
      ]
     },
     "execution_count": 46,
     "metadata": {},
     "output_type": "execute_result"
    }
   ],
   "source": [
    "a[2]"
   ]
  },
  {
   "cell_type": "code",
   "execution_count": 47,
   "id": "e31f5ab2-7ed5-4454-8863-45b08a46d4a9",
   "metadata": {},
   "outputs": [],
   "source": [
    "l = [1,2,3] # l is a list and also a data container and also any datatype\n",
    "# can to contained in the list and the concept of the indexing is the same\n",
    "# even for the list and list is mutable.\n"
   ]
  },
  {
   "cell_type": "code",
   "execution_count": 48,
   "id": "6c6b7387-ba6c-434f-bc33-f3d1a013c9fb",
   "metadata": {},
   "outputs": [
    {
     "data": {
      "text/plain": [
       "[1, 2, 3]"
      ]
     },
     "execution_count": 48,
     "metadata": {},
     "output_type": "execute_result"
    }
   ],
   "source": [
    "l"
   ]
  },
  {
   "cell_type": "code",
   "execution_count": 49,
   "id": "8b3e57e7-14b3-48e6-a598-358c57085bfc",
   "metadata": {},
   "outputs": [],
   "source": [
    "l[1] = \"pranay\""
   ]
  },
  {
   "cell_type": "code",
   "execution_count": 50,
   "id": "b980c8ad-7061-4168-b3ba-3a95ee181c78",
   "metadata": {},
   "outputs": [
    {
     "data": {
      "text/plain": [
       "[1, 'pranay', 3]"
      ]
     },
     "execution_count": 50,
     "metadata": {},
     "output_type": "execute_result"
    }
   ],
   "source": [
    "l"
   ]
  },
  {
   "cell_type": "code",
   "execution_count": 51,
   "id": "06196ee0-5a77-4833-8687-097f36609759",
   "metadata": {},
   "outputs": [],
   "source": [
    "# the above is the example of mutablity of list and is a mutable concept\n",
    "# and string are immutable."
   ]
  },
  {
   "cell_type": "code",
   "execution_count": 52,
   "id": "ad6cecb0-8d64-4c1f-99e0-2cb3fd20160c",
   "metadata": {},
   "outputs": [
    {
     "data": {
      "text/plain": [
       "5"
      ]
     },
     "execution_count": 52,
     "metadata": {},
     "output_type": "execute_result"
    }
   ],
   "source": [
    "# operators are something that perform operations to manipulate the\n",
    "#data\n",
    "2+3\n"
   ]
  },
  {
   "cell_type": "code",
   "execution_count": 53,
   "id": "1f16b224-00b3-4880-b2ee-fa83fb24efc8",
   "metadata": {},
   "outputs": [],
   "source": [
    "a = 3 \n",
    "b = 5"
   ]
  },
  {
   "cell_type": "code",
   "execution_count": 54,
   "id": "faabae45-150c-4342-a213-b9da5d6b7e80",
   "metadata": {},
   "outputs": [
    {
     "data": {
      "text/plain": [
       "8"
      ]
     },
     "execution_count": 54,
     "metadata": {},
     "output_type": "execute_result"
    }
   ],
   "source": [
    "a + b"
   ]
  },
  {
   "cell_type": "code",
   "execution_count": 55,
   "id": "630581eb-93ab-4144-bce0-456d7943d0de",
   "metadata": {},
   "outputs": [
    {
     "name": "stdout",
     "output_type": "stream",
     "text": [
      "No Python documentation found for 'operators'.\n",
      "Use help() to get the interactive help utility.\n",
      "Use help(str) for help on the str class.\n",
      "\n"
     ]
    }
   ],
   "source": [
    "help(\"operators\")"
   ]
  },
  {
   "cell_type": "code",
   "execution_count": 57,
   "id": "5c9ac99a-794e-4dbc-ba80-b8e51462842f",
   "metadata": {},
   "outputs": [],
   "source": [
    "add = a/b"
   ]
  },
  {
   "cell_type": "code",
   "execution_count": 58,
   "id": "eb08fdf2-a2c0-41d5-9d4a-85af0356e2fe",
   "metadata": {},
   "outputs": [
    {
     "data": {
      "text/plain": [
       "0.6"
      ]
     },
     "execution_count": 58,
     "metadata": {},
     "output_type": "execute_result"
    }
   ],
   "source": [
    "add"
   ]
  },
  {
   "cell_type": "code",
   "execution_count": 59,
   "id": "cb844d85-790e-45a3-a694-6d6ff2d7b80b",
   "metadata": {},
   "outputs": [],
   "source": [
    "power = 3^6"
   ]
  },
  {
   "cell_type": "code",
   "execution_count": 60,
   "id": "1c68c307-3abc-4400-894c-7d332292c4a0",
   "metadata": {},
   "outputs": [
    {
     "data": {
      "text/plain": [
       "5"
      ]
     },
     "execution_count": 60,
     "metadata": {},
     "output_type": "execute_result"
    }
   ],
   "source": [
    "power"
   ]
  },
  {
   "cell_type": "code",
   "execution_count": 63,
   "id": "c789a3ba-479d-492f-b273-93572a535950",
   "metadata": {},
   "outputs": [],
   "source": [
    "power = 3 ** 756"
   ]
  },
  {
   "cell_type": "code",
   "execution_count": 64,
   "id": "40b86059-3acf-4270-accf-6d3f48bc6303",
   "metadata": {},
   "outputs": [
    {
     "data": {
      "text/plain": [
       "5054387890525272446406343855554816024188820842273292736143747467663385418676183423558311575424232463638959609894979917513677060343335515273794662255766812732861601223348419887903441158192471580920222508390031555960495791823166663171546107196874771814859010557687301893891916530425828390274940778339748262959750143043015580303368567287618864725714114590984245521"
      ]
     },
     "execution_count": 64,
     "metadata": {},
     "output_type": "execute_result"
    }
   ],
   "source": [
    "power"
   ]
  },
  {
   "cell_type": "code",
   "execution_count": 66,
   "id": "abdb0d85-f7ad-449b-8b0c-840516334cb9",
   "metadata": {},
   "outputs": [
    {
     "data": {
      "text/plain": [
       "0"
      ]
     },
     "execution_count": 66,
     "metadata": {},
     "output_type": "execute_result"
    }
   ],
   "source": [
    "4/5 # gives an output of 0.8\n",
    "#how to do the floor division\n",
    "#but after doing floor division by // is will give the nearest rounded \n",
    "#lowest values\n",
    "\n",
    "4//5"
   ]
  },
  {
   "cell_type": "code",
   "execution_count": 67,
   "id": "479fc8dc-8c95-455f-9416-42809e4feb78",
   "metadata": {},
   "outputs": [
    {
     "data": {
      "text/plain": [
       "True"
      ]
     },
     "execution_count": 67,
     "metadata": {},
     "output_type": "execute_result"
    }
   ],
   "source": [
    "#comparison operator compares between two objects or values\n",
    "# this operator returns boolean value\n",
    "\n",
    "2 == 2\n"
   ]
  },
  {
   "cell_type": "code",
   "execution_count": 71,
   "id": "4aceab5f-a933-43d4-a6b7-8bda76f73856",
   "metadata": {},
   "outputs": [
    {
     "data": {
      "text/plain": [
       "True"
      ]
     },
     "execution_count": 71,
     "metadata": {},
     "output_type": "execute_result"
    }
   ],
   "source": [
    "3 != 5"
   ]
  },
  {
   "cell_type": "code",
   "execution_count": 69,
   "id": "2f8ce0d0-4b00-45ec-9bbe-9544e379ae10",
   "metadata": {},
   "outputs": [
    {
     "data": {
      "text/plain": [
       "False"
      ]
     },
     "execution_count": 69,
     "metadata": {},
     "output_type": "execute_result"
    }
   ],
   "source": [
    "a == b"
   ]
  },
  {
   "cell_type": "code",
   "execution_count": 70,
   "id": "45cc305c-4032-43b0-8edf-aaab51bd958c",
   "metadata": {},
   "outputs": [
    {
     "data": {
      "text/plain": [
       "True"
      ]
     },
     "execution_count": 70,
     "metadata": {},
     "output_type": "execute_result"
    }
   ],
   "source": [
    "a != b"
   ]
  },
  {
   "cell_type": "code",
   "execution_count": 72,
   "id": "f8eaebca-5cb0-4ef2-9910-f5224863d6af",
   "metadata": {},
   "outputs": [
    {
     "data": {
      "text/plain": [
       "True"
      ]
     },
     "execution_count": 72,
     "metadata": {},
     "output_type": "execute_result"
    }
   ],
   "source": [
    "3 > 1"
   ]
  },
  {
   "cell_type": "code",
   "execution_count": 74,
   "id": "49355831-032c-48c0-a6f6-9cd85638481c",
   "metadata": {},
   "outputs": [
    {
     "data": {
      "text/plain": [
       "True"
      ]
     },
     "execution_count": 74,
     "metadata": {},
     "output_type": "execute_result"
    }
   ],
   "source": [
    "3 >= 1"
   ]
  },
  {
   "cell_type": "code",
   "execution_count": 78,
   "id": "50da0a76-cfce-4895-b795-b2aa219d9bd2",
   "metadata": {},
   "outputs": [
    {
     "data": {
      "text/plain": [
       "False"
      ]
     },
     "execution_count": 78,
     "metadata": {},
     "output_type": "execute_result"
    }
   ],
   "source": [
    "# logical operator includes and or OR.\n",
    "\n",
    "\"\"\" True and True | True\n",
    "    True and False | False\n",
    "    False and True | False\n",
    "    False and False| False \n",
    "    \n",
    "    AND operator needs to have both condition being satisfied\n",
    "    and in OR operator only one condition beings satisfied\"\"\"\n",
    "\n",
    "True and False\n",
    "    \n",
    "\n"
   ]
  },
  {
   "cell_type": "code",
   "execution_count": null,
   "id": "e3448e41-239a-44fa-9796-13073b29d43f",
   "metadata": {},
   "outputs": [],
   "source": []
  }
 ],
 "metadata": {
  "kernelspec": {
   "display_name": "Python 3 (ipykernel)",
   "language": "python",
   "name": "python3"
  },
  "language_info": {
   "codemirror_mode": {
    "name": "ipython",
    "version": 3
   },
   "file_extension": ".py",
   "mimetype": "text/x-python",
   "name": "python",
   "nbconvert_exporter": "python",
   "pygments_lexer": "ipython3",
   "version": "3.10.8"
  }
 },
 "nbformat": 4,
 "nbformat_minor": 5
}
